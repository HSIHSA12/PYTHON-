{
 "cells": [
  {
   "cell_type": "code",
   "execution_count": 1,
   "id": "485aa1ae-9d2b-4090-a07b-555101d59d6d",
   "metadata": {},
   "outputs": [],
   "source": [
    "myset=set()"
   ]
  },
  {
   "cell_type": "code",
   "execution_count": 2,
   "id": "5088601b-06dc-4750-bc2d-d0c188637e4a",
   "metadata": {},
   "outputs": [
    {
     "data": {
      "text/plain": [
       "set()"
      ]
     },
     "execution_count": 2,
     "metadata": {},
     "output_type": "execute_result"
    }
   ],
   "source": [
    "myset"
   ]
  },
  {
   "cell_type": "code",
   "execution_count": 3,
   "id": "f53aed32-0df0-4e5e-9597-816564dcead5",
   "metadata": {},
   "outputs": [],
   "source": [
    "myset.add(23)"
   ]
  },
  {
   "cell_type": "code",
   "execution_count": 4,
   "id": "5b6f472e-a3c1-4fb0-b706-4e8e2980713b",
   "metadata": {},
   "outputs": [
    {
     "data": {
      "text/plain": [
       "{23}"
      ]
     },
     "execution_count": 4,
     "metadata": {},
     "output_type": "execute_result"
    }
   ],
   "source": [
    "myset"
   ]
  },
  {
   "cell_type": "code",
   "execution_count": 5,
   "id": "a6d6ee40-6316-49e9-97f3-bbde15a310b4",
   "metadata": {},
   "outputs": [],
   "source": [
    "myset.add('hello')"
   ]
  },
  {
   "cell_type": "code",
   "execution_count": 6,
   "id": "83d4f04e-71ca-4b54-8163-43265aa0ba28",
   "metadata": {},
   "outputs": [
    {
     "data": {
      "text/plain": [
       "{23, 'hello'}"
      ]
     },
     "execution_count": 6,
     "metadata": {},
     "output_type": "execute_result"
    }
   ],
   "source": [
    "myset"
   ]
  },
  {
   "cell_type": "code",
   "execution_count": 7,
   "id": "125c1ecb-6fcf-465d-a6d0-f5bbbbc4720b",
   "metadata": {},
   "outputs": [],
   "source": [
    "mylist=[1,2,3,4,4,4,4,4,5,2,2,2,1]"
   ]
  },
  {
   "cell_type": "code",
   "execution_count": 9,
   "id": "bb80ebe7-3bf6-4d3a-91aa-1026e7cf0a98",
   "metadata": {},
   "outputs": [
    {
     "data": {
      "text/plain": [
       "{1, 2, 3, 4, 5}"
      ]
     },
     "execution_count": 9,
     "metadata": {},
     "output_type": "execute_result"
    }
   ],
   "source": [
    "set(mylist)"
   ]
  },
  {
   "cell_type": "code",
   "execution_count": 10,
   "id": "b5972842-1db6-442e-af47-4243e5a9de8e",
   "metadata": {},
   "outputs": [
    {
     "data": {
      "text/plain": [
       "{23, 'hello'}"
      ]
     },
     "execution_count": 10,
     "metadata": {},
     "output_type": "execute_result"
    }
   ],
   "source": [
    "myset"
   ]
  },
  {
   "cell_type": "code",
   "execution_count": 13,
   "id": "b0c0aa09-3e28-4f9e-934b-f2190e85418f",
   "metadata": {},
   "outputs": [],
   "source": [
    "myset.add(34)"
   ]
  },
  {
   "cell_type": "code",
   "execution_count": 14,
   "id": "15d0e5b6-8da7-48de-bac0-ca3e3119dde6",
   "metadata": {},
   "outputs": [
    {
     "data": {
      "text/plain": [
       "{23, 34, set, 'hello'}"
      ]
     },
     "execution_count": 14,
     "metadata": {},
     "output_type": "execute_result"
    }
   ],
   "source": [
    "myset"
   ]
  },
  {
   "cell_type": "code",
   "execution_count": 15,
   "id": "d1a18941-84a3-48c0-b6be-e1d1870213fa",
   "metadata": {},
   "outputs": [],
   "source": [
    "myset.add(23)"
   ]
  },
  {
   "cell_type": "code",
   "execution_count": 16,
   "id": "c1d2ec0f-1878-427d-a25b-cdce6f3535b1",
   "metadata": {},
   "outputs": [
    {
     "data": {
      "text/plain": [
       "{23, 34, set, 'hello'}"
      ]
     },
     "execution_count": 16,
     "metadata": {},
     "output_type": "execute_result"
    }
   ],
   "source": [
    "myset"
   ]
  },
  {
   "cell_type": "code",
   "execution_count": null,
   "id": "793f81ca-1f1a-4c5a-ad93-7033f9cd4372",
   "metadata": {},
   "outputs": [],
   "source": []
  }
 ],
 "metadata": {
  "kernelspec": {
   "display_name": "Python 3 (ipykernel)",
   "language": "python",
   "name": "python3"
  },
  "language_info": {
   "codemirror_mode": {
    "name": "ipython",
    "version": 3
   },
   "file_extension": ".py",
   "mimetype": "text/x-python",
   "name": "python",
   "nbconvert_exporter": "python",
   "pygments_lexer": "ipython3",
   "version": "3.12.7"
  }
 },
 "nbformat": 4,
 "nbformat_minor": 5
}
