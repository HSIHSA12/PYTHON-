{
 "cells": [
  {
   "cell_type": "code",
   "execution_count": 1,
   "id": "819ec4d6-5574-47bf-9c01-49feb1baa874",
   "metadata": {},
   "outputs": [
    {
     "name": "stdout",
     "output_type": "stream",
     "text": [
      "print only words that start with s in this statment\n"
     ]
    }
   ],
   "source": [
    "print('print only words that start with s in this statment')"
   ]
  },
  {
   "cell_type": "code",
   "execution_count": 10,
   "id": "d70e200a-9051-4baf-96bd-d6e484b2801e",
   "metadata": {},
   "outputs": [],
   "source": [
    "st=('Sam print only words that start with s in this statment')"
   ]
  },
  {
   "cell_type": "code",
   "execution_count": 11,
   "id": "1167e8d3-f088-48c2-95ac-5694ea71c1fd",
   "metadata": {},
   "outputs": [
    {
     "data": {
      "text/plain": [
       "['Sam',\n",
       " 'print',\n",
       " 'only',\n",
       " 'words',\n",
       " 'that',\n",
       " 'start',\n",
       " 'with',\n",
       " 's',\n",
       " 'in',\n",
       " 'this',\n",
       " 'statment']"
      ]
     },
     "execution_count": 11,
     "metadata": {},
     "output_type": "execute_result"
    }
   ],
   "source": [
    "st.split()"
   ]
  },
  {
   "cell_type": "code",
   "execution_count": 15,
   "id": "ca5de969-6a68-4f07-a718-9bb2f03033a4",
   "metadata": {},
   "outputs": [
    {
     "name": "stdout",
     "output_type": "stream",
     "text": [
      "Sam\n",
      "start\n",
      "s\n",
      "statment\n"
     ]
    }
   ],
   "source": [
    "for word in st.split():\n",
    "    #if word[0]=='s' or word[0]=='S':\n",
    "    if word[0].lower()=='s':\n",
    "        print(word)"
   ]
  },
  {
   "cell_type": "code",
   "execution_count": 16,
   "id": "dd1f6d3d-0494-4701-bfe3-f93e2d0b0067",
   "metadata": {},
   "outputs": [
    {
     "name": "stdout",
     "output_type": "stream",
     "text": [
      "use a list comrehension to create a list of all numbers between1 and 50 that are divisible by 3\n"
     ]
    }
   ],
   "source": [
    "print('use a list comrehension to create a list of all numbers between 1 and 50 that are divisible by 3')"
   ]
  },
  {
   "cell_type": "code",
   "execution_count": 22,
   "id": "be57ad7b-1d04-4152-afca-24236ecf2680",
   "metadata": {},
   "outputs": [
    {
     "name": "stdout",
     "output_type": "stream",
     "text": [
      "[3, 6, 9, 12, 15, 18, 21, 24, 27, 30, 33, 36, 39, 42, 45, 48]\n"
     ]
    }
   ],
   "source": [
    "mylist=[num  for num in range(1,50) if num%3==0]\n",
    "print(mylist)"
   ]
  },
  {
   "cell_type": "code",
   "execution_count": 23,
   "id": "39add520-29db-4663-9339-3640e1e72068",
   "metadata": {},
   "outputs": [
    {
     "name": "stdout",
     "output_type": "stream",
     "text": [
      "go thriugh the string ,if  the length of the word is even print even\n"
     ]
    }
   ],
   "source": [
    "print('go through the string ,if  the length of the word is even print ''even''')"
   ]
  },
  {
   "cell_type": "code",
   "execution_count": 30,
   "id": "ae735e37-d0cd-42dc-928e-4578b7d83375",
   "metadata": {},
   "outputs": [
    {
     "name": "stdout",
     "output_type": "stream",
     "text": [
      "even letter string= go\n",
      "even letter string= string\n",
      "even letter string= length\n",
      "even letter string= of\n",
      "even letter string= word\n",
      "even letter string= is\n",
      "even letter string= even\n"
     ]
    }
   ],
   "source": [
    "mystring='go through the string ,if  the length of the word is even print'\n",
    "for word in mystring.split():\n",
    "    if len(word)%2==0:\n",
    "        print(f'even letter string= {word}')"
   ]
  },
  {
   "cell_type": "code",
   "execution_count": 31,
   "id": "58ba2798-8162-4758-9c67-54c254f0171a",
   "metadata": {},
   "outputs": [
    {
     "name": "stdout",
     "output_type": "stream",
     "text": [
      "fizzbuzz problem\n"
     ]
    }
   ],
   "source": [
    "print('fizzbuzz problem')"
   ]
  },
  {
   "cell_type": "code",
   "execution_count": 37,
   "id": "861636f0-88d2-4ac2-a6ce-88222b043526",
   "metadata": {},
   "outputs": [
    {
     "name": "stdout",
     "output_type": "stream",
     "text": [
      "fizz=0\n",
      "num\n",
      "num\n",
      "fizz=3\n",
      "num\n",
      "buzz5\n",
      "fizz=6\n",
      "num\n",
      "num\n",
      "fizz=9\n",
      "buzz10\n",
      "num\n",
      "fizz=12\n",
      "num\n",
      "num\n",
      "fizz=15\n",
      "num\n",
      "num\n",
      "fizz=18\n",
      "num\n",
      "buzz20\n",
      "fizz=21\n",
      "num\n",
      "num\n",
      "fizz=24\n",
      "buzz25\n",
      "num\n",
      "fizz=27\n",
      "num\n",
      "num\n",
      "fizz=30\n",
      "num\n",
      "num\n",
      "fizz=33\n",
      "num\n",
      "buzz35\n",
      "fizz=36\n",
      "num\n",
      "num\n",
      "fizz=39\n",
      "buzz40\n",
      "num\n",
      "fizz=42\n",
      "num\n",
      "num\n",
      "fizz=45\n",
      "num\n",
      "num\n",
      "fizz=48\n",
      "num\n",
      "buzz50\n",
      "fizz=51\n",
      "num\n",
      "num\n",
      "fizz=54\n",
      "buzz55\n",
      "num\n",
      "fizz=57\n",
      "num\n",
      "num\n",
      "fizz=60\n",
      "num\n",
      "num\n",
      "fizz=63\n",
      "num\n",
      "buzz65\n",
      "fizz=66\n",
      "num\n",
      "num\n",
      "fizz=69\n",
      "buzz70\n",
      "num\n",
      "fizz=72\n",
      "num\n",
      "num\n",
      "fizz=75\n",
      "num\n",
      "num\n",
      "fizz=78\n",
      "num\n",
      "buzz80\n",
      "fizz=81\n",
      "num\n",
      "num\n",
      "fizz=84\n",
      "buzz85\n",
      "num\n",
      "fizz=87\n",
      "num\n",
      "num\n",
      "fizz=90\n",
      "num\n",
      "num\n",
      "fizz=93\n",
      "num\n",
      "buzz95\n",
      "fizz=96\n",
      "num\n",
      "num\n",
      "fizz=99\n"
     ]
    }
   ],
   "source": [
    "for num in range(0,100):\n",
    "    if num%3==0:\n",
    "        print(f'fizz={num}')\n",
    "    elif num%5==0:\n",
    "        print(f'buzz{num}')\n",
    "    elif num%3==0 and num%5==0:\n",
    "        print(f'fizzbuzz={num}')\n",
    "    else :\n",
    "        print('num')"
   ]
  },
  {
   "cell_type": "code",
   "execution_count": 38,
   "id": "a3ad3752-f6c3-4e9b-81da-388d92d6bb9e",
   "metadata": {},
   "outputs": [],
   "source": [
    "st='hello i am asdfggkvnn'"
   ]
  },
  {
   "cell_type": "code",
   "execution_count": null,
   "id": "e84cc183-3a83-4af0-8555-2c312db8e12c",
   "metadata": {},
   "outputs": [],
   "source": [
    "mylist=[]"
   ]
  }
 ],
 "metadata": {
  "kernelspec": {
   "display_name": "Python 3 (ipykernel)",
   "language": "python",
   "name": "python3"
  },
  "language_info": {
   "codemirror_mode": {
    "name": "ipython",
    "version": 3
   },
   "file_extension": ".py",
   "mimetype": "text/x-python",
   "name": "python",
   "nbconvert_exporter": "python",
   "pygments_lexer": "ipython3",
   "version": "3.12.7"
  }
 },
 "nbformat": 4,
 "nbformat_minor": 5
}
