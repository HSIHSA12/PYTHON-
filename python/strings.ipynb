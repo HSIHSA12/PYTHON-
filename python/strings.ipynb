{
 "cells": [
  {
   "cell_type": "code",
   "execution_count": 2,
   "id": "1ecb0924-6867-4fad-b912-33c0806fe8f9",
   "metadata": {},
   "outputs": [
    {
     "name": "stdout",
     "output_type": "stream",
     "text": [
      "hello world \n"
     ]
    }
   ],
   "source": [
    "print(\"hello world \")"
   ]
  },
  {
   "cell_type": "code",
   "execution_count": 3,
   "id": "e949fa20-4c0c-49aa-8aaf-30b05bfc7aee",
   "metadata": {},
   "outputs": [],
   "source": [
    "x=\"hello world \""
   ]
  },
  {
   "cell_type": "code",
   "execution_count": 4,
   "id": "06ee40ca-c80b-4ecc-b65b-626af85813be",
   "metadata": {},
   "outputs": [
    {
     "data": {
      "text/plain": [
       "'HELLO WORLD '"
      ]
     },
     "execution_count": 4,
     "metadata": {},
     "output_type": "execute_result"
    }
   ],
   "source": [
    "x.upper()"
   ]
  },
  {
   "cell_type": "code",
   "execution_count": 14,
   "id": "50a05bcd-f794-42af-acbd-2badfa77981e",
   "metadata": {},
   "outputs": [
    {
     "data": {
      "text/plain": [
       "'hello world '"
      ]
     },
     "execution_count": 14,
     "metadata": {},
     "output_type": "execute_result"
    }
   ],
   "source": [
    "x.lower()"
   ]
  },
  {
   "cell_type": "code",
   "execution_count": 15,
   "id": "dc4dff91-8c9b-489e-8a39-acbb761f9684",
   "metadata": {},
   "outputs": [
    {
     "data": {
      "text/plain": [
       "['hello', 'world']"
      ]
     },
     "execution_count": 15,
     "metadata": {},
     "output_type": "execute_result"
    }
   ],
   "source": [
    "x.split()"
   ]
  },
  {
   "cell_type": "code",
   "execution_count": 16,
   "id": "49eb240d-f316-46bf-bc10-0c2c10968205",
   "metadata": {},
   "outputs": [],
   "source": [
    "x=\"my name is ashish\""
   ]
  },
  {
   "cell_type": "code",
   "execution_count": 17,
   "id": "3d0e57c9-37e5-4c87-bf3d-cf100fd94b48",
   "metadata": {},
   "outputs": [
    {
     "data": {
      "text/plain": [
       "'my name is ashish'"
      ]
     },
     "execution_count": 17,
     "metadata": {},
     "output_type": "execute_result"
    }
   ],
   "source": [
    "x"
   ]
  },
  {
   "cell_type": "code",
   "execution_count": 18,
   "id": "a573d12e-25ed-4956-aab0-b6e276dc4d8d",
   "metadata": {},
   "outputs": [
    {
     "data": {
      "text/plain": [
       "['my', 'name', 'is', 'ashish']"
      ]
     },
     "execution_count": 18,
     "metadata": {},
     "output_type": "execute_result"
    }
   ],
   "source": [
    "x.split()"
   ]
  },
  {
   "cell_type": "code",
   "execution_count": 19,
   "id": "ed44cf70-3f2c-4948-894c-b75ebaca83aa",
   "metadata": {},
   "outputs": [
    {
     "data": {
      "text/plain": [
       "['my name ', 's ash', 'sh']"
      ]
     },
     "execution_count": 19,
     "metadata": {},
     "output_type": "execute_result"
    }
   ],
   "source": [
    "x.split(\"i\")"
   ]
  },
  {
   "cell_type": "code",
   "execution_count": 20,
   "id": "b30e9e0b-d092-46dd-bcec-705cc344d0b3",
   "metadata": {},
   "outputs": [
    {
     "data": {
      "text/plain": [
       "['my n', 'me is ', 'shish']"
      ]
     },
     "execution_count": 20,
     "metadata": {},
     "output_type": "execute_result"
    }
   ],
   "source": [
    "x.split('a')"
   ]
  },
  {
   "cell_type": "code",
   "execution_count": 21,
   "id": "a89d24ab-5331-47e0-ab2c-41f0e0c6f872",
   "metadata": {},
   "outputs": [
    {
     "data": {
      "text/plain": [
       "'hsihsa si eman ym'"
      ]
     },
     "execution_count": 21,
     "metadata": {},
     "output_type": "execute_result"
    }
   ],
   "source": [
    "x[::-1]"
   ]
  },
  {
   "cell_type": "code",
   "execution_count": 31,
   "id": "11f821e2-5639-42b5-b202-fab11cb000dc",
   "metadata": {},
   "outputs": [
    {
     "name": "stdout",
     "output_type": "stream",
     "text": [
      ".format method\n"
     ]
    }
   ],
   "source": [
    "print(\".format method\")"
   ]
  },
  {
   "cell_type": "code",
   "execution_count": 23,
   "id": "47320dd4-339e-4e83-988e-773ac70b823b",
   "metadata": {},
   "outputs": [
    {
     "name": "stdout",
     "output_type": "stream",
     "text": [
      "this is the string inserted\n"
     ]
    }
   ],
   "source": [
    "print('this is the string{}'.format(' inserted'))"
   ]
  },
  {
   "cell_type": "code",
   "execution_count": 24,
   "id": "21465e43-4d0d-4567-87ba-0dbbd6b8fb58",
   "metadata": {},
   "outputs": [
    {
     "name": "stdout",
     "output_type": "stream",
     "text": [
      "the cat is black\n"
     ]
    }
   ],
   "source": [
    "print('the {} {} {}'.format('cat','is','black'))"
   ]
  },
  {
   "cell_type": "code",
   "execution_count": 25,
   "id": "0e6927a4-483d-4df9-baba-90ab84a817dc",
   "metadata": {},
   "outputs": [
    {
     "name": "stdout",
     "output_type": "stream",
     "text": [
      "the is is is\n"
     ]
    }
   ],
   "source": [
    "print('the {1} {1} {1}'.format('cat','is','black'))"
   ]
  },
  {
   "cell_type": "code",
   "execution_count": 26,
   "id": "49274147-d14d-441e-b779-4ef6aa39818f",
   "metadata": {},
   "outputs": [
    {
     "name": "stdout",
     "output_type": "stream",
     "text": [
      "the black is cat\n"
     ]
    }
   ],
   "source": [
    "print('the {2} {1} {0}'.format('cat','is','black'))"
   ]
  },
  {
   "cell_type": "code",
   "execution_count": 27,
   "id": "b4240d05-1b59-434d-b3be-d467fbee120c",
   "metadata": {},
   "outputs": [
    {
     "name": "stdout",
     "output_type": "stream",
     "text": [
      "the is cat black\n"
     ]
    }
   ],
   "source": [
    "print('the {i} {c} {b}'.format(c='cat',i='is',b='black'))"
   ]
  },
  {
   "cell_type": "code",
   "execution_count": 28,
   "id": "a6324646-3d9c-4335-bfc7-039c7a7601cd",
   "metadata": {},
   "outputs": [
    {
     "name": "stdout",
     "output_type": "stream",
     "text": [
      "the cat is black\n"
     ]
    }
   ],
   "source": [
    "print('the {c} {i} {b}'.format(c='cat',i='is',b='black'))"
   ]
  },
  {
   "cell_type": "code",
   "execution_count": 32,
   "id": "a55c8902-bbcd-4b25-822d-fea60e214846",
   "metadata": {},
   "outputs": [
    {
     "name": "stdout",
     "output_type": "stream",
     "text": [
      "FLOAT FORMATING\n"
     ]
    }
   ],
   "source": [
    "print('FLOAT FORMATING')"
   ]
  },
  {
   "cell_type": "code",
   "execution_count": 34,
   "id": "a85f005f-79e6-42b0-b3a5-71a2356a5619",
   "metadata": {},
   "outputs": [],
   "source": [
    "result=200/345335"
   ]
  },
  {
   "cell_type": "code",
   "execution_count": 35,
   "id": "308fb825-bba7-4089-91b0-e25a05ea6f3b",
   "metadata": {},
   "outputs": [
    {
     "data": {
      "text/plain": [
       "0.0005791477840357914"
      ]
     },
     "execution_count": 35,
     "metadata": {},
     "output_type": "execute_result"
    }
   ],
   "source": [
    "result"
   ]
  },
  {
   "cell_type": "code",
   "execution_count": 44,
   "id": "3a8472cb-0858-4dc1-8a9f-9b46e80db8e9",
   "metadata": {},
   "outputs": [
    {
     "name": "stdout",
     "output_type": "stream",
     "text": [
      "the result is 0.00058\n"
     ]
    }
   ],
   "source": [
    "print('the result is {r:1.5f}'.format(r=result))"
   ]
  },
  {
   "cell_type": "code",
   "execution_count": 45,
   "id": "2fda553f-7861-4551-b79b-4e1b3f0bbf28",
   "metadata": {},
   "outputs": [
    {
     "name": "stdout",
     "output_type": "stream",
     "text": [
      "the result is 2.00058\n"
     ]
    }
   ],
   "source": [
    "print('the result is {r:1.5f}'.format(r=result+2))"
   ]
  },
  {
   "cell_type": "code",
   "execution_count": null,
   "id": "8d0cddca-caa5-4333-ba8f-2b978bcb1e75",
   "metadata": {},
   "outputs": [],
   "source": [
    "\n"
   ]
  },
  {
   "cell_type": "code",
   "execution_count": null,
   "id": "f900b349-402a-4fb1-8b79-3dfa24d4dd7c",
   "metadata": {},
   "outputs": [],
   "source": []
  },
  {
   "cell_type": "code",
   "execution_count": null,
   "id": "9f624da3-2d3e-445f-a528-b526825ce3b6",
   "metadata": {},
   "outputs": [],
   "source": []
  },
  {
   "cell_type": "code",
   "execution_count": 46,
   "id": "5eab038c-082b-4750-8c86-2032bbd6e361",
   "metadata": {},
   "outputs": [],
   "source": [
    "name='ashish'"
   ]
  },
  {
   "cell_type": "code",
   "execution_count": 47,
   "id": "270ba0fb-759b-43bd-8e7f-b8f3bb720e62",
   "metadata": {},
   "outputs": [
    {
     "name": "stdout",
     "output_type": "stream",
     "text": [
      "my name is ashish\n"
     ]
    }
   ],
   "source": [
    "print(f'my name is {name}')"
   ]
  },
  {
   "cell_type": "code",
   "execution_count": 48,
   "id": "c51199c1-201d-467b-adc7-5e975e7e6cfe",
   "metadata": {},
   "outputs": [
    {
     "name": "stdout",
     "output_type": "stream",
     "text": [
      "my name is {name}\n"
     ]
    }
   ],
   "source": [
    "print('my name is {name}')"
   ]
  },
  {
   "cell_type": "code",
   "execution_count": 50,
   "id": "4c96b5c4-9799-4156-b885-938bcd5f48f0",
   "metadata": {},
   "outputs": [],
   "source": [
    "age=3"
   ]
  },
  {
   "cell_type": "code",
   "execution_count": 52,
   "id": "ff80111c-8a01-4ab5-ab7b-19f710854a3f",
   "metadata": {},
   "outputs": [
    {
     "name": "stdout",
     "output_type": "stream",
     "text": [
      "ashish is 3 years old\n"
     ]
    }
   ],
   "source": [
    "print(f'{name} is {age} years old')"
   ]
  },
  {
   "cell_type": "code",
   "execution_count": null,
   "id": "4f1e5013-c2f6-4ba4-bf4e-68a8bb5e3c31",
   "metadata": {},
   "outputs": [],
   "source": []
  },
  {
   "cell_type": "code",
   "execution_count": null,
   "id": "f0017ccd-23be-4776-a5ed-7d82f9d84d2d",
   "metadata": {},
   "outputs": [],
   "source": []
  }
 ],
 "metadata": {
  "kernelspec": {
   "display_name": "Python 3 (ipykernel)",
   "language": "python",
   "name": "python3"
  },
  "language_info": {
   "codemirror_mode": {
    "name": "ipython",
    "version": 3
   },
   "file_extension": ".py",
   "mimetype": "text/x-python",
   "name": "python",
   "nbconvert_exporter": "python",
   "pygments_lexer": "ipython3",
   "version": "3.12.7"
  }
 },
 "nbformat": 4,
 "nbformat_minor": 5
}
