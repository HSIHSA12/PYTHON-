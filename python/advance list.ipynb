{
 "cells": [
  {
   "cell_type": "code",
   "execution_count": 1,
   "id": "c82f1fa6-b435-4866-bcb2-0ffcd89638ab",
   "metadata": {},
   "outputs": [],
   "source": [
    "list1 = [1,2,3]"
   ]
  },
  {
   "cell_type": "code",
   "execution_count": 2,
   "id": "c1cef8aa-a418-4fdb-841e-19e54cf6e34c",
   "metadata": {},
   "outputs": [
    {
     "data": {
      "text/plain": [
       "[1, 2, 3, 4]"
      ]
     },
     "execution_count": 2,
     "metadata": {},
     "output_type": "execute_result"
    }
   ],
   "source": [
    "list1.append(4)\n",
    "\n",
    "list1"
   ]
  },
  {
   "cell_type": "code",
   "execution_count": 3,
   "id": "0aa9e766-4eab-4c1a-8f19-25402334c514",
   "metadata": {},
   "outputs": [
    {
     "data": {
      "text/plain": [
       "0"
      ]
     },
     "execution_count": 3,
     "metadata": {},
     "output_type": "execute_result"
    }
   ],
   "source": [
    "list1.count(10)\n"
   ]
  },
  {
   "cell_type": "code",
   "execution_count": 4,
   "id": "ba0ea765-186e-4ae1-b83a-f0f7fc9a688f",
   "metadata": {},
   "outputs": [
    {
     "name": "stdout",
     "output_type": "stream",
     "text": [
      "[1, 2, 3, [4, 5]]\n"
     ]
    }
   ],
   "source": [
    "x = [1, 2, 3]\n",
    "x.append([4, 5])\n",
    "print(x)"
   ]
  },
  {
   "cell_type": "code",
   "execution_count": 5,
   "id": "7df37a24-4692-47bf-b4b1-d2721cf3742e",
   "metadata": {},
   "outputs": [
    {
     "name": "stdout",
     "output_type": "stream",
     "text": [
      "[1, 2, 3, 4, 5]\n"
     ]
    }
   ],
   "source": [
    "x = [1, 2, 3]\n",
    "x.extend([4, 5])\n",
    "print(x)"
   ]
  },
  {
   "cell_type": "code",
   "execution_count": 6,
   "id": "2ceef1fa-be4c-4339-9979-ff1b57475716",
   "metadata": {},
   "outputs": [
    {
     "data": {
      "text/plain": [
       "1"
      ]
     },
     "execution_count": 6,
     "metadata": {},
     "output_type": "execute_result"
    }
   ],
   "source": [
    "list1.index(2)\n"
   ]
  },
  {
   "cell_type": "code",
   "execution_count": 7,
   "id": "cb896e7a-370b-4c57-b8f2-920ec1c22c6c",
   "metadata": {},
   "outputs": [],
   "source": [
    "list1.insert(2,'inserted')\n"
   ]
  },
  {
   "cell_type": "code",
   "execution_count": 8,
   "id": "a4de266c-adfe-4902-809d-cbdf62f29096",
   "metadata": {},
   "outputs": [
    {
     "data": {
      "text/plain": [
       "[1, 2, 'inserted', 3, 4]"
      ]
     },
     "execution_count": 8,
     "metadata": {},
     "output_type": "execute_result"
    }
   ],
   "source": [
    "list1"
   ]
  },
  {
   "cell_type": "code",
   "execution_count": 9,
   "id": "c5415ca2-3f82-4418-8bb3-4caed802b64e",
   "metadata": {},
   "outputs": [],
   "source": [
    "ele = list1.pop(1)  # pop the second element\n"
   ]
  },
  {
   "cell_type": "code",
   "execution_count": 10,
   "id": "cfd80f8f-2b09-4b36-88ba-24847a8d5516",
   "metadata": {},
   "outputs": [
    {
     "data": {
      "text/plain": [
       "[1, 'inserted', 3, 4]"
      ]
     },
     "execution_count": 10,
     "metadata": {},
     "output_type": "execute_result"
    }
   ],
   "source": [
    "list1\n"
   ]
  },
  {
   "cell_type": "code",
   "execution_count": 11,
   "id": "bc6c13d4-5d9f-4940-a5d2-f64e7ca0bec7",
   "metadata": {},
   "outputs": [
    {
     "data": {
      "text/plain": [
       "2"
      ]
     },
     "execution_count": 11,
     "metadata": {},
     "output_type": "execute_result"
    }
   ],
   "source": [
    "ele"
   ]
  },
  {
   "cell_type": "code",
   "execution_count": 12,
   "id": "384d4330-384a-4548-a91e-980e16e41a20",
   "metadata": {},
   "outputs": [],
   "source": [
    "list1.remove('inserted')\n"
   ]
  },
  {
   "cell_type": "code",
   "execution_count": 13,
   "id": "25bd74e4-dd64-4d84-9f49-8b6b0da31e9b",
   "metadata": {},
   "outputs": [
    {
     "data": {
      "text/plain": [
       "[1, 3, 4]"
      ]
     },
     "execution_count": 13,
     "metadata": {},
     "output_type": "execute_result"
    }
   ],
   "source": [
    "list1"
   ]
  },
  {
   "cell_type": "code",
   "execution_count": 14,
   "id": "9134039c-1eab-4cb0-9faf-3fc3a3df1351",
   "metadata": {},
   "outputs": [],
   "source": [
    "list2 = [1,2,3,4,3]\n"
   ]
  },
  {
   "cell_type": "code",
   "execution_count": 15,
   "id": "61b140f2-d25c-4794-ae1c-e4c4cab6eafe",
   "metadata": {},
   "outputs": [],
   "source": [
    "list2.remove(3)\n"
   ]
  },
  {
   "cell_type": "code",
   "execution_count": 16,
   "id": "f3c1e21e-20a3-44ad-868f-fce283cfaf1f",
   "metadata": {},
   "outputs": [
    {
     "data": {
      "text/plain": [
       "[1, 2, 4, 3]"
      ]
     },
     "execution_count": 16,
     "metadata": {},
     "output_type": "execute_result"
    }
   ],
   "source": [
    "list2"
   ]
  },
  {
   "cell_type": "code",
   "execution_count": 17,
   "id": "07057907-a48e-448e-af9e-f9c7a75eb7d4",
   "metadata": {},
   "outputs": [],
   "source": [
    "list2.reverse()\n"
   ]
  },
  {
   "cell_type": "code",
   "execution_count": 18,
   "id": "8b5329b5-004b-436c-aa65-7b7a27bc69ea",
   "metadata": {},
   "outputs": [
    {
     "data": {
      "text/plain": [
       "[3, 4, 2, 1]"
      ]
     },
     "execution_count": 18,
     "metadata": {},
     "output_type": "execute_result"
    }
   ],
   "source": [
    "list2"
   ]
  },
  {
   "cell_type": "code",
   "execution_count": 19,
   "id": "8cdb85c8-2668-4334-941d-668d8c4e1bf8",
   "metadata": {},
   "outputs": [],
   "source": [
    "list2.sort()\n"
   ]
  },
  {
   "cell_type": "code",
   "execution_count": 20,
   "id": "430ee1ea-40dc-456b-8428-c368a4d8f91c",
   "metadata": {},
   "outputs": [
    {
     "data": {
      "text/plain": [
       "[1, 2, 3, 4]"
      ]
     },
     "execution_count": 20,
     "metadata": {},
     "output_type": "execute_result"
    }
   ],
   "source": [
    "list2"
   ]
  },
  {
   "cell_type": "code",
   "execution_count": null,
   "id": "99b94124-156b-45da-8e20-6aec48b94811",
   "metadata": {},
   "outputs": [],
   "source": []
  }
 ],
 "metadata": {
  "kernelspec": {
   "display_name": "Python 3 (ipykernel)",
   "language": "python",
   "name": "python3"
  },
  "language_info": {
   "codemirror_mode": {
    "name": "ipython",
    "version": 3
   },
   "file_extension": ".py",
   "mimetype": "text/x-python",
   "name": "python",
   "nbconvert_exporter": "python",
   "pygments_lexer": "ipython3",
   "version": "3.12.7"
  }
 },
 "nbformat": 4,
 "nbformat_minor": 5
}
