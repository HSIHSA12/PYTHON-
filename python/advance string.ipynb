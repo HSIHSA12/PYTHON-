{
 "cells": [
  {
   "cell_type": "code",
   "execution_count": 7,
   "id": "91bbdb10-26d9-4038-bcbc-a616f9e69d6f",
   "metadata": {},
   "outputs": [],
   "source": [
    "s='ashish dixit'"
   ]
  },
  {
   "cell_type": "code",
   "execution_count": 8,
   "id": "e1472ef1-2ee9-41b8-9a6d-66abf0c65e40",
   "metadata": {},
   "outputs": [
    {
     "data": {
      "text/plain": [
       "'ASHISH DIXIT'"
      ]
     },
     "execution_count": 8,
     "metadata": {},
     "output_type": "execute_result"
    }
   ],
   "source": [
    "s.upper()"
   ]
  },
  {
   "cell_type": "code",
   "execution_count": 9,
   "id": "957b3ca3-abb4-46e5-ae97-27bb0f7293bd",
   "metadata": {},
   "outputs": [
    {
     "data": {
      "text/plain": [
       "'ashish dixit'"
      ]
     },
     "execution_count": 9,
     "metadata": {},
     "output_type": "execute_result"
    }
   ],
   "source": [
    "s.lower()"
   ]
  },
  {
   "cell_type": "code",
   "execution_count": 10,
   "id": "11dad8c3-c02a-49ee-9738-ecd54d4c6046",
   "metadata": {},
   "outputs": [
    {
     "data": {
      "text/plain": [
       "'Ashish dixit'"
      ]
     },
     "execution_count": 10,
     "metadata": {},
     "output_type": "execute_result"
    }
   ],
   "source": [
    "s.capitalize()"
   ]
  },
  {
   "cell_type": "code",
   "execution_count": 11,
   "id": "641906cc-6ea0-4d99-b4be-dca9a978ba2a",
   "metadata": {},
   "outputs": [
    {
     "data": {
      "text/plain": [
       "3"
      ]
     },
     "execution_count": 11,
     "metadata": {},
     "output_type": "execute_result"
    }
   ],
   "source": [
    "s.count('i')"
   ]
  },
  {
   "cell_type": "code",
   "execution_count": 12,
   "id": "bbc6ce7e-83c5-41de-bf75-79c03d8db2b1",
   "metadata": {},
   "outputs": [
    {
     "data": {
      "text/plain": [
       "3"
      ]
     },
     "execution_count": 12,
     "metadata": {},
     "output_type": "execute_result"
    }
   ],
   "source": [
    "s.find('i')"
   ]
  },
  {
   "cell_type": "code",
   "execution_count": 13,
   "id": "e36a46a4-fa06-4571-aabd-aa28830a6ec9",
   "metadata": {},
   "outputs": [
    {
     "data": {
      "text/plain": [
       "'zzzzashish dixitzzzz'"
      ]
     },
     "execution_count": 13,
     "metadata": {},
     "output_type": "execute_result"
    }
   ],
   "source": [
    "s.center(20,'z')"
   ]
  },
  {
   "cell_type": "code",
   "execution_count": 17,
   "id": "35d72ea8-f835-4a1c-9fe0-28a52e756a36",
   "metadata": {},
   "outputs": [
    {
     "name": "stdout",
     "output_type": "stream",
     "text": [
      "hello\thi\n"
     ]
    }
   ],
   "source": [
    "print  ('hello\\thi')"
   ]
  },
  {
   "cell_type": "code",
   "execution_count": 18,
   "id": "2eb1f45b-d419-4ca0-abb4-468be371fc8a",
   "metadata": {},
   "outputs": [],
   "source": [
    "s='hello'"
   ]
  },
  {
   "cell_type": "code",
   "execution_count": 19,
   "id": "8b663c94-bf37-42c0-a82c-175e1016e68b",
   "metadata": {},
   "outputs": [
    {
     "data": {
      "text/plain": [
       "True"
      ]
     },
     "execution_count": 19,
     "metadata": {},
     "output_type": "execute_result"
    }
   ],
   "source": [
    "s.isalnum()"
   ]
  },
  {
   "cell_type": "code",
   "execution_count": 20,
   "id": "645c7a1f-7d9a-4f75-a2d5-a92fc52f8449",
   "metadata": {},
   "outputs": [
    {
     "data": {
      "text/plain": [
       "True"
      ]
     },
     "execution_count": 20,
     "metadata": {},
     "output_type": "execute_result"
    }
   ],
   "source": [
    "s.isalpha()"
   ]
  },
  {
   "cell_type": "code",
   "execution_count": 21,
   "id": "54514508-9841-49df-ac72-dfca96fe6b13",
   "metadata": {},
   "outputs": [
    {
     "data": {
      "text/plain": [
       "True"
      ]
     },
     "execution_count": 21,
     "metadata": {},
     "output_type": "execute_result"
    }
   ],
   "source": [
    "s.islower()"
   ]
  },
  {
   "cell_type": "code",
   "execution_count": 22,
   "id": "e9344acd-88ae-446d-b02d-b7a39369fd90",
   "metadata": {},
   "outputs": [
    {
     "data": {
      "text/plain": [
       "False"
      ]
     },
     "execution_count": 22,
     "metadata": {},
     "output_type": "execute_result"
    }
   ],
   "source": [
    "s.isupper()"
   ]
  },
  {
   "cell_type": "code",
   "execution_count": 23,
   "id": "41d2b590-58a2-45d6-935b-8da3602a380b",
   "metadata": {},
   "outputs": [
    {
     "data": {
      "text/plain": [
       "False"
      ]
     },
     "execution_count": 23,
     "metadata": {},
     "output_type": "execute_result"
    }
   ],
   "source": [
    "s.isspace()"
   ]
  },
  {
   "cell_type": "code",
   "execution_count": 24,
   "id": "cbf7d2ca-64ae-4a10-b487-17cc0f479710",
   "metadata": {},
   "outputs": [
    {
     "data": {
      "text/plain": [
       "True"
      ]
     },
     "execution_count": 24,
     "metadata": {},
     "output_type": "execute_result"
    }
   ],
   "source": [
    "'HELLO'.isupper()"
   ]
  },
  {
   "cell_type": "code",
   "execution_count": 25,
   "id": "d9d3df0e-2aca-40af-9409-99a18a34eb67",
   "metadata": {},
   "outputs": [
    {
     "data": {
      "text/plain": [
       "False"
      ]
     },
     "execution_count": 25,
     "metadata": {},
     "output_type": "execute_result"
    }
   ],
   "source": [
    "s.endswith('i')"
   ]
  },
  {
   "cell_type": "code",
   "execution_count": 26,
   "id": "8c98b6b8-9f5e-4dc6-be0c-a89105d2cb0e",
   "metadata": {},
   "outputs": [],
   "source": [
    "s='hihihihhhhiihihihihiiihhho'"
   ]
  },
  {
   "cell_type": "code",
   "execution_count": 27,
   "id": "c9741061-ffe8-4edf-8c6d-4920c71d0b52",
   "metadata": {},
   "outputs": [
    {
     "data": {
      "text/plain": [
       "('h', 'i', 'hihihhhhiihihihihiiihhho')"
      ]
     },
     "execution_count": 27,
     "metadata": {},
     "output_type": "execute_result"
    }
   ],
   "source": [
    "s.partition('i')"
   ]
  },
  {
   "cell_type": "code",
   "execution_count": null,
   "id": "6bf9a4bb-e02a-4dc7-92a3-f2ae2bd995ec",
   "metadata": {},
   "outputs": [],
   "source": [
    "    "
   ]
  }
 ],
 "metadata": {
  "kernelspec": {
   "display_name": "Python 3 (ipykernel)",
   "language": "python",
   "name": "python3"
  },
  "language_info": {
   "codemirror_mode": {
    "name": "ipython",
    "version": 3
   },
   "file_extension": ".py",
   "mimetype": "text/x-python",
   "name": "python",
   "nbconvert_exporter": "python",
   "pygments_lexer": "ipython3",
   "version": "3.12.7"
  }
 },
 "nbformat": 4,
 "nbformat_minor": 5
}
