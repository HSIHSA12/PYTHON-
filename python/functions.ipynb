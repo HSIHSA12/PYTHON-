{
 "cells": [
  {
   "cell_type": "code",
   "execution_count": 1,
   "id": "997f3b11-406b-45f0-9ae0-2ac14c2052e1",
   "metadata": {},
   "outputs": [
    {
     "name": "stdout",
     "output_type": "stream",
     "text": [
      "hi\n",
      "how are you\n"
     ]
    }
   ],
   "source": [
    "def say_hello():\n",
    "    print('hi')\n",
    "    print('how are you')\n",
    "say_hello()    "
   ]
  },
  {
   "cell_type": "code",
   "execution_count": 2,
   "id": "961afb7b-afc4-4f29-8b13-e75aa062f381",
   "metadata": {},
   "outputs": [
    {
     "name": "stdout",
     "output_type": "stream",
     "text": [
      "hello ashish\n"
     ]
    }
   ],
   "source": [
    "def say_hello(name='default'):\n",
    "    print(f'hello {name}')\n",
    "say_hello('ashish')    "
   ]
  },
  {
   "cell_type": "code",
   "execution_count": 3,
   "id": "4007532b-78ed-424d-91f7-25330f8051f8",
   "metadata": {},
   "outputs": [
    {
     "name": "stdout",
     "output_type": "stream",
     "text": [
      "hello default\n"
     ]
    }
   ],
   "source": [
    "def say_hello(name='default'):\n",
    "    print(f'hello {name}')\n",
    "say_hello()    "
   ]
  },
  {
   "cell_type": "code",
   "execution_count": 4,
   "id": "427f1fe8-3887-4b85-8455-e7ef1c368bd5",
   "metadata": {},
   "outputs": [
    {
     "data": {
      "text/plain": [
       "5"
      ]
     },
     "execution_count": 4,
     "metadata": {},
     "output_type": "execute_result"
    }
   ],
   "source": [
    "def add_num(num1,num2):\n",
    "    return num1+num2\n",
    "result=add_num(2,3)\n",
    "result"
   ]
  },
  {
   "cell_type": "code",
   "execution_count": 5,
   "id": "17ba3864-83f0-4d51-8bdc-c4fee4be068a",
   "metadata": {},
   "outputs": [
    {
     "data": {
      "text/plain": [
       "True"
      ]
     },
     "execution_count": 5,
     "metadata": {},
     "output_type": "execute_result"
    }
   ],
   "source": [
    "def even_check(number):\n",
    "    result=number%2==0\n",
    "    return result\n",
    "even_check(22)    "
   ]
  },
  {
   "cell_type": "code",
   "execution_count": 6,
   "id": "abf02ac0-e7f1-4773-8438-a0dfa954c514",
   "metadata": {},
   "outputs": [
    {
     "data": {
      "text/plain": [
       "False"
      ]
     },
     "execution_count": 6,
     "metadata": {},
     "output_type": "execute_result"
    }
   ],
   "source": [
    "even_check(21)"
   ]
  },
  {
   "cell_type": "code",
   "execution_count": 7,
   "id": "e2e9fc88-72b9-4715-a9b3-b74f13301d87",
   "metadata": {},
   "outputs": [
    {
     "data": {
      "text/plain": [
       "True"
      ]
     },
     "execution_count": 7,
     "metadata": {},
     "output_type": "execute_result"
    }
   ],
   "source": [
    "def even_check(number):\n",
    "     return number%2==0\n",
    "even_check(22)    "
   ]
  },
  {
   "cell_type": "code",
   "execution_count": 8,
   "id": "75e24d42-d2a5-4547-a840-cb26678352d4",
   "metadata": {},
   "outputs": [
    {
     "data": {
      "text/plain": [
       "True"
      ]
     },
     "execution_count": 8,
     "metadata": {},
     "output_type": "execute_result"
    }
   ],
   "source": [
    "def check_even_list(num_list):\n",
    "    for number in num_list:\n",
    "        if number%2==0:\n",
    "            return True\n",
    "        else:\n",
    "            pass #retuen false is wrong as it  checks only first number if the list\n",
    "    return False # checks all the numbers of the list the return false\n",
    "check_even_list([1,3,5,4])"
   ]
  },
  {
   "cell_type": "code",
   "execution_count": 9,
   "id": "c982e56d-196d-45c6-a5b1-67079dbcbca9",
   "metadata": {},
   "outputs": [
    {
     "data": {
      "text/plain": [
       "False"
      ]
     },
     "execution_count": 9,
     "metadata": {},
     "output_type": "execute_result"
    }
   ],
   "source": [
    "check_even_list([1,3,5,7])"
   ]
  },
  {
   "cell_type": "code",
   "execution_count": 10,
   "id": "44d728ba-1470-4875-a21b-9aaecd36f112",
   "metadata": {},
   "outputs": [],
   "source": [
    "def check_even_list1(num_list):\n",
    "    even_numbers=[]#placeholder variable\n",
    "    for number in num_list:\n",
    "        if number%2==0:\n",
    "            even_numbers.append(number)\n",
    "        else:\n",
    "            pass\n",
    "    return even_numbers\n"
   ]
  },
  {
   "cell_type": "code",
   "execution_count": 11,
   "id": "05ea2e19-b456-4567-b4cc-909ec90d11b6",
   "metadata": {},
   "outputs": [
    {
     "data": {
      "text/plain": [
       "[2, 4, 6, 234]"
      ]
     },
     "execution_count": 11,
     "metadata": {},
     "output_type": "execute_result"
    }
   ],
   "source": [
    "check_even_list1([2,3,4,5,6,9,234,543])"
   ]
  },
  {
   "cell_type": "code",
   "execution_count": 12,
   "id": "6da70319-3b1d-418f-8e0b-ed5bddfecfbd",
   "metadata": {},
   "outputs": [],
   "source": [
    "work_hours=[('asd',100),('dfg',200),('ghj',499),('kjn',988)]"
   ]
  },
  {
   "cell_type": "code",
   "execution_count": 13,
   "id": "b2c7194c-1f30-4af7-ae3d-f1245abb5a8d",
   "metadata": {},
   "outputs": [],
   "source": [
    "def employee_check(work_hours):\n",
    "    max_work_hours=0\n",
    "    best_emplyee=''\n",
    "    for employee,hours in work_hours:\n",
    "        if hours>max_work_hours:\n",
    "            max_work_hours=hours\n",
    "            best_employee=employee\n",
    "        else:\n",
    "            pass\n",
    "    return (best_employee,max_work_hours)            "
   ]
  },
  {
   "cell_type": "code",
   "execution_count": 14,
   "id": "458ce289-687f-4db0-9a92-36ad8acc2310",
   "metadata": {},
   "outputs": [],
   "source": [
    "result=employee_check(work_hours)"
   ]
  },
  {
   "cell_type": "code",
   "execution_count": 15,
   "id": "6c74e7d0-68ca-4ed7-81f1-c9856af9af7d",
   "metadata": {},
   "outputs": [
    {
     "data": {
      "text/plain": [
       "('kjn', 988)"
      ]
     },
     "execution_count": 15,
     "metadata": {},
     "output_type": "execute_result"
    }
   ],
   "source": [
    "result"
   ]
  },
  {
   "cell_type": "code",
   "execution_count": 16,
   "id": "e80dc884-dcee-4e87-bc0e-64314a9ef8cb",
   "metadata": {},
   "outputs": [],
   "source": [
    "name,time=employee_check(work_hours)"
   ]
  },
  {
   "cell_type": "code",
   "execution_count": 17,
   "id": "cfa70d8d-ae1b-4538-bede-6ca80c836383",
   "metadata": {},
   "outputs": [
    {
     "data": {
      "text/plain": [
       "'kjn'"
      ]
     },
     "execution_count": 17,
     "metadata": {},
     "output_type": "execute_result"
    }
   ],
   "source": [
    "name"
   ]
  },
  {
   "cell_type": "code",
   "execution_count": 18,
   "id": "d92b3f35-e792-4773-b499-f2e6f9e4c1f4",
   "metadata": {},
   "outputs": [
    {
     "data": {
      "text/plain": [
       "988"
      ]
     },
     "execution_count": 18,
     "metadata": {},
     "output_type": "execute_result"
    }
   ],
   "source": [
    "time"
   ]
  },
  {
   "cell_type": "code",
   "execution_count": 19,
   "id": "cdf7d877-18c4-4acc-8d81-e1fee8880815",
   "metadata": {},
   "outputs": [
    {
     "data": {
      "text/plain": [
       "['', '', 'O']"
      ]
     },
     "execution_count": 19,
     "metadata": {},
     "output_type": "execute_result"
    }
   ],
   "source": [
    "from random import shuffle\n",
    "mylist=['','O','']\n",
    "def shuffel_list(mylist):\n",
    "    shuffle(mylist)\n",
    "    return mylist\n",
    "shuffel_list(mylist)   "
   ]
  },
  {
   "cell_type": "code",
   "execution_count": 20,
   "id": "439cdf4a-5750-4233-bdfc-e83d0a783e72",
   "metadata": {},
   "outputs": [],
   "source": [
    "def player_guess():\n",
    "    guess=''\n",
    "    while guess not in ['0','1','2']:\n",
    "        guess=input('pick a number: 0 ,1 or 2')\n",
    "    return int(guess)\n",
    "    "
   ]
  },
  {
   "cell_type": "code",
   "execution_count": null,
   "id": "ec272466-0ac9-44c4-a793-414629e0e5ea",
   "metadata": {},
   "outputs": [],
   "source": [
    "player_guess()"
   ]
  },
  {
   "cell_type": "code",
   "execution_count": null,
   "id": "f0f8967b-3662-4a1f-83ae-594fdc30a1ee",
   "metadata": {},
   "outputs": [],
   "source": [
    "myindex=plyer_guess()"
   ]
  },
  {
   "cell_type": "code",
   "execution_count": null,
   "id": "7c985fc6-aa6f-4162-88bb-d8dff19ad6fc",
   "metadata": {},
   "outputs": [],
   "source": []
  }
 ],
 "metadata": {
  "kernelspec": {
   "display_name": "Python 3 (ipykernel)",
   "language": "python",
   "name": "python3"
  },
  "language_info": {
   "codemirror_mode": {
    "name": "ipython",
    "version": 3
   },
   "file_extension": ".py",
   "mimetype": "text/x-python",
   "name": "python",
   "nbconvert_exporter": "python",
   "pygments_lexer": "ipython3",
   "version": "3.12.7"
  }
 },
 "nbformat": 4,
 "nbformat_minor": 5
}
