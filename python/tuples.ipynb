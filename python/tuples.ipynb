{
 "cells": [
  {
   "cell_type": "code",
   "execution_count": 1,
   "id": "a623d22c-f195-4341-9892-4a045e13ac86",
   "metadata": {},
   "outputs": [],
   "source": [
    "t=('a','a','a','a','d','f','f')"
   ]
  },
  {
   "cell_type": "code",
   "execution_count": 2,
   "id": "5065066b-0252-4c4a-89b8-f685307a5987",
   "metadata": {},
   "outputs": [
    {
     "data": {
      "text/plain": [
       "('a', 'a', 'a', 'a', 'd', 'f', 'f')"
      ]
     },
     "execution_count": 2,
     "metadata": {},
     "output_type": "execute_result"
    }
   ],
   "source": [
    "t"
   ]
  },
  {
   "cell_type": "code",
   "execution_count": 4,
   "id": "a43ee288-9b9f-4d31-8f36-947638775868",
   "metadata": {},
   "outputs": [
    {
     "data": {
      "text/plain": [
       "4"
      ]
     },
     "execution_count": 4,
     "metadata": {},
     "output_type": "execute_result"
    }
   ],
   "source": [
    "t.count('a')"
   ]
  },
  {
   "cell_type": "code",
   "execution_count": 5,
   "id": "8789761f-10f2-4a59-aa6c-c1a37b73052d",
   "metadata": {},
   "outputs": [
    {
     "data": {
      "text/plain": [
       "0"
      ]
     },
     "execution_count": 5,
     "metadata": {},
     "output_type": "execute_result"
    }
   ],
   "source": [
    "t.index('a')\n",
    "#returns the index value of the first time the element is present "
   ]
  },
  {
   "cell_type": "code",
   "execution_count": 6,
   "id": "1936f70d-2397-4ede-bc0e-44b53136eda9",
   "metadata": {},
   "outputs": [
    {
     "data": {
      "text/plain": [
       "4"
      ]
     },
     "execution_count": 6,
     "metadata": {},
     "output_type": "execute_result"
    }
   ],
   "source": [
    "t.index('d')"
   ]
  },
  {
   "cell_type": "code",
   "execution_count": null,
   "id": "1e17e860-7520-4657-a6b1-0288a5b44c23",
   "metadata": {},
   "outputs": [],
   "source": []
  }
 ],
 "metadata": {
  "kernelspec": {
   "display_name": "Python 3 (ipykernel)",
   "language": "python",
   "name": "python3"
  },
  "language_info": {
   "codemirror_mode": {
    "name": "ipython",
    "version": 3
   },
   "file_extension": ".py",
   "mimetype": "text/x-python",
   "name": "python",
   "nbconvert_exporter": "python",
   "pygments_lexer": "ipython3",
   "version": "3.12.7"
  }
 },
 "nbformat": 4,
 "nbformat_minor": 5
}
