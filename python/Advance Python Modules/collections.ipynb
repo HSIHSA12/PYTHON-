{
 "cells": [
  {
   "cell_type": "code",
   "execution_count": 12,
   "id": "4c067a58-97d7-427e-8490-0c27fbfc18e1",
   "metadata": {},
   "outputs": [],
   "source": [
    "from collections import Counter"
   ]
  },
  {
   "cell_type": "code",
   "execution_count": 74,
   "id": "eb23e2da-2817-4d53-8c4a-f9d982f78ec6",
   "metadata": {},
   "outputs": [
    {
     "name": "stdout",
     "output_type": "stream",
     "text": [
      "Counter({1: 5, 2: 4, 3: 4, 5: 1})\n"
     ]
    },
    {
     "data": {
      "text/plain": [
       "{1, 2, 3, 5}"
      ]
     },
     "execution_count": 74,
     "metadata": {},
     "output_type": "execute_result"
    }
   ],
   "source": [
    "mylist=[1,1,1,1,2,2,2,2,3,3,3,5,1,3]\n",
    "print(Counter(mylist))\n",
    "set(mylist)"
   ]
  },
  {
   "cell_type": "code",
   "execution_count": 14,
   "id": "22b88975-bc96-447e-8179-966582f6b395",
   "metadata": {},
   "outputs": [
    {
     "data": {
      "text/plain": [
       "Counter({'d': 7,\n",
       "         'f': 6,\n",
       "         'n': 6,\n",
       "         'm': 5,\n",
       "         'k': 5,\n",
       "         'h': 5,\n",
       "         's': 4,\n",
       "         'i': 4,\n",
       "         'j': 4,\n",
       "         'e': 2,\n",
       "         'v': 2,\n",
       "         'a': 1,\n",
       "         'b': 1,\n",
       "         'g': 1,\n",
       "         'c': 1,\n",
       "         'y': 1,\n",
       "         't': 1,\n",
       "         'r': 1})"
      ]
     },
     "execution_count": 14,
     "metadata": {},
     "output_type": "execute_result"
    }
   ],
   "source": [
    "str1='adfndsmkidfhndmskifhndmskiejfhnmdksiejnfmvkjbnjhgfcvhytrd'\n",
    "Counter(str1)"
   ]
  },
  {
   "cell_type": "code",
   "execution_count": 36,
   "id": "3f6032a1-be6e-4ba8-a91b-c9c84129ff36",
   "metadata": {},
   "outputs": [],
   "source": [
    "str2='Hello my name is ashish  is dixit'\n",
    "a=str2.lower().split()\n",
    "    "
   ]
  },
  {
   "cell_type": "code",
   "execution_count": 37,
   "id": "af347268-d75c-4c29-abcf-3c5526664c4a",
   "metadata": {},
   "outputs": [
    {
     "name": "stdout",
     "output_type": "stream",
     "text": [
      "['hello', 'my', 'name', 'is', 'ashish', 'is', 'dixit']\n"
     ]
    },
    {
     "data": {
      "text/plain": [
       "Counter({'is': 2, 'hello': 1, 'my': 1, 'name': 1, 'ashish': 1, 'dixit': 1})"
      ]
     },
     "execution_count": 37,
     "metadata": {},
     "output_type": "execute_result"
    }
   ],
   "source": [
    "print(a)\n",
    "Counter(a)"
   ]
  },
  {
   "cell_type": "code",
   "execution_count": 28,
   "id": "e4920e9b-0cac-4107-965b-0198d0f9b3c3",
   "metadata": {},
   "outputs": [
    {
     "name": "stdout",
     "output_type": "stream",
     "text": [
      "hello\n",
      "my\n",
      "name\n",
      "is\n",
      "ashish\n",
      "is\n",
      "dixit\n"
     ]
    }
   ],
   "source": [
    "for lett in (a):\n",
    "    print(lett)"
   ]
  },
  {
   "cell_type": "code",
   "execution_count": 33,
   "id": "8bb789d1-bd7f-4f4c-9923-751594fa8117",
   "metadata": {},
   "outputs": [
    {
     "name": "stdout",
     "output_type": "stream",
     "text": [
      "d\n",
      "i\n",
      "x\n",
      "i\n",
      "t\n"
     ]
    }
   ],
   "source": [
    "for i in lett:\n",
    "    print(i)"
   ]
  },
  {
   "cell_type": "code",
   "execution_count": 38,
   "id": "81467dbe-9bec-414b-9d45-ffb71e90ba08",
   "metadata": {},
   "outputs": [],
   "source": [
    "letters='aaaaaaaaaaaaaaaaaaaaaaaassssssssssssddddddf'"
   ]
  },
  {
   "cell_type": "code",
   "execution_count": 40,
   "id": "4c10a075-f792-497c-9b5b-a6ed11c33dc2",
   "metadata": {},
   "outputs": [],
   "source": [
    "a=Counter(letters)"
   ]
  },
  {
   "cell_type": "code",
   "execution_count": 41,
   "id": "87e0066c-ef0e-465c-84a4-2dfef8940e03",
   "metadata": {},
   "outputs": [
    {
     "name": "stdout",
     "output_type": "stream",
     "text": [
      "Counter({'a': 24, 's': 12, 'd': 6, 'f': 1})\n"
     ]
    }
   ],
   "source": [
    "print(a)"
   ]
  },
  {
   "cell_type": "code",
   "execution_count": 42,
   "id": "84e3dc5d-baee-44e1-b359-904cc108ca45",
   "metadata": {},
   "outputs": [
    {
     "data": {
      "text/plain": [
       "[('a', 24), ('s', 12), ('d', 6)]"
      ]
     },
     "execution_count": 42,
     "metadata": {},
     "output_type": "execute_result"
    }
   ],
   "source": [
    "a.most_common(3)"
   ]
  },
  {
   "cell_type": "code",
   "execution_count": 44,
   "id": "a0d0192e-46eb-4171-b211-e13ce9dab735",
   "metadata": {},
   "outputs": [],
   "source": [
    "from collections import defaultdict"
   ]
  },
  {
   "cell_type": "code",
   "execution_count": 45,
   "id": "90995eea-1776-49ef-9793-6c8b8421a03d",
   "metadata": {},
   "outputs": [],
   "source": [
    "d=defaultdict(lambda:0)"
   ]
  },
  {
   "cell_type": "code",
   "execution_count": 46,
   "id": "b0cb7b9d-4d00-4310-b619-370eb8122688",
   "metadata": {},
   "outputs": [],
   "source": [
    "d['correct']=1"
   ]
  },
  {
   "cell_type": "code",
   "execution_count": 47,
   "id": "e94a7799-429e-4e13-8b3b-7d33eae1eda4",
   "metadata": {},
   "outputs": [
    {
     "data": {
      "text/plain": [
       "defaultdict(<function __main__.<lambda>()>, {'correct': 1})"
      ]
     },
     "execution_count": 47,
     "metadata": {},
     "output_type": "execute_result"
    }
   ],
   "source": [
    "d"
   ]
  },
  {
   "cell_type": "code",
   "execution_count": 48,
   "id": "b02b9028-6331-4719-a5c4-4f7d69c31856",
   "metadata": {},
   "outputs": [
    {
     "data": {
      "text/plain": [
       "1"
      ]
     },
     "execution_count": 48,
     "metadata": {},
     "output_type": "execute_result"
    }
   ],
   "source": [
    "d['correct']\n"
   ]
  },
  {
   "cell_type": "code",
   "execution_count": 49,
   "id": "fd1cb53d-10e6-4a32-9cd8-012a9f7c6ca2",
   "metadata": {},
   "outputs": [
    {
     "data": {
      "text/plain": [
       "0"
      ]
     },
     "execution_count": 49,
     "metadata": {},
     "output_type": "execute_result"
    }
   ],
   "source": [
    "d['wrong']"
   ]
  },
  {
   "cell_type": "code",
   "execution_count": 50,
   "id": "dead121a-f546-489e-9301-cd108f6ccf0b",
   "metadata": {},
   "outputs": [
    {
     "data": {
      "text/plain": [
       "0"
      ]
     },
     "execution_count": 50,
     "metadata": {},
     "output_type": "execute_result"
    }
   ],
   "source": [
    "d['anything']"
   ]
  },
  {
   "cell_type": "code",
   "execution_count": 51,
   "id": "23f6cff8-1c47-4ba5-bbca-fefd1c05edb0",
   "metadata": {},
   "outputs": [
    {
     "data": {
      "text/plain": [
       "defaultdict(<function __main__.<lambda>()>,\n",
       "            {'correct': 1, 'wrong': 0, 'anything': 0})"
      ]
     },
     "execution_count": 51,
     "metadata": {},
     "output_type": "execute_result"
    }
   ],
   "source": [
    "d"
   ]
  },
  {
   "cell_type": "code",
   "execution_count": 52,
   "id": "57098c5b-a376-4e35-bf6e-27911d7b8a97",
   "metadata": {},
   "outputs": [
    {
     "name": "stdout",
     "output_type": "stream",
     "text": [
      "defaultdict(<function <lambda> at 0x000001B277D49F80>, {'correct': 1, 'wrong': 0, 'anything': 0})\n"
     ]
    }
   ],
   "source": [
    "print(d)"
   ]
  },
  {
   "cell_type": "code",
   "execution_count": 53,
   "id": "4c5c850b-54fa-43a9-8e13-104014e6e91c",
   "metadata": {},
   "outputs": [],
   "source": [
    "from collections import namedtuple"
   ]
  },
  {
   "cell_type": "code",
   "execution_count": 62,
   "id": "b7b49d3b-4332-4cf2-b928-3993f770ce26",
   "metadata": {},
   "outputs": [],
   "source": [
    "dog= namedtuple('dog',['age','breed','name'])\n",
    "sammy= dog(age=1,breed='husky',name='linux')"
   ]
  },
  {
   "cell_type": "code",
   "execution_count": 63,
   "id": "3a9087fb-e461-4045-848f-d5b734957a12",
   "metadata": {},
   "outputs": [
    {
     "data": {
      "text/plain": [
       "dog(age=1, breed='husky', name='linux')"
      ]
     },
     "execution_count": 63,
     "metadata": {},
     "output_type": "execute_result"
    }
   ],
   "source": [
    "sammy"
   ]
  },
  {
   "cell_type": "code",
   "execution_count": 64,
   "id": "aec283c8-296f-4632-b927-c19b6f3a3874",
   "metadata": {},
   "outputs": [
    {
     "data": {
      "text/plain": [
       "'linux'"
      ]
     },
     "execution_count": 64,
     "metadata": {},
     "output_type": "execute_result"
    }
   ],
   "source": [
    "sammy.name"
   ]
  },
  {
   "cell_type": "code",
   "execution_count": 65,
   "id": "9c5baac8-c8da-412b-8353-3cc96dcbf2fb",
   "metadata": {},
   "outputs": [
    {
     "data": {
      "text/plain": [
       "1"
      ]
     },
     "execution_count": 65,
     "metadata": {},
     "output_type": "execute_result"
    }
   ],
   "source": [
    "sammy.age"
   ]
  },
  {
   "cell_type": "code",
   "execution_count": 66,
   "id": "2e4853bd-0969-46d6-bff8-7c1e7c2e12fa",
   "metadata": {},
   "outputs": [
    {
     "data": {
      "text/plain": [
       "'husky'"
      ]
     },
     "execution_count": 66,
     "metadata": {},
     "output_type": "execute_result"
    }
   ],
   "source": [
    "sammy.breed"
   ]
  },
  {
   "cell_type": "code",
   "execution_count": 67,
   "id": "173d2184-b71f-405e-b91a-75d7e7d1a40f",
   "metadata": {},
   "outputs": [
    {
     "data": {
      "text/plain": [
       "'husky'"
      ]
     },
     "execution_count": 67,
     "metadata": {},
     "output_type": "execute_result"
    }
   ],
   "source": [
    "sammy[1]"
   ]
  },
  {
   "cell_type": "code",
   "execution_count": null,
   "id": "4b84ee07-c79a-402f-9a82-6fff7c7cac8f",
   "metadata": {},
   "outputs": [],
   "source": []
  }
 ],
 "metadata": {
  "kernelspec": {
   "display_name": "Python 3 (ipykernel)",
   "language": "python",
   "name": "python3"
  },
  "language_info": {
   "codemirror_mode": {
    "name": "ipython",
    "version": 3
   },
   "file_extension": ".py",
   "mimetype": "text/x-python",
   "name": "python",
   "nbconvert_exporter": "python",
   "pygments_lexer": "ipython3",
   "version": "3.12.7"
  }
 },
 "nbformat": 4,
 "nbformat_minor": 5
}
