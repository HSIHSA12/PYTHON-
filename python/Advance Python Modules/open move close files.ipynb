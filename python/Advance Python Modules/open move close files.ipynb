{
 "cells": [
  {
   "cell_type": "code",
   "execution_count": 1,
   "id": "d8012795-2a0f-4ed3-b455-755350c78b10",
   "metadata": {},
   "outputs": [
    {
     "data": {
      "text/plain": [
       "'C:\\\\Users\\\\ASHISH DIXIT\\\\python\\\\Advance Python Modules'"
      ]
     },
     "execution_count": 1,
     "metadata": {},
     "output_type": "execute_result"
    }
   ],
   "source": [
    "pwd"
   ]
  },
  {
   "cell_type": "code",
   "execution_count": 18,
   "id": "77fceda6-c0a1-4517-804d-ee6a779689c2",
   "metadata": {},
   "outputs": [
    {
     "data": {
      "text/plain": [
       "<function TextIOWrapper.close()>"
      ]
     },
     "execution_count": 18,
     "metadata": {},
     "output_type": "execute_result"
    }
   ],
   "source": [
    "f=open('practice.text','w+')\n",
    "f.write('this is our text file')\n",
    "f.close"
   ]
  },
  {
   "cell_type": "code",
   "execution_count": 19,
   "id": "f13568e9-c57e-4086-a2e0-e9d4613f1d96",
   "metadata": {},
   "outputs": [],
   "source": [
    "import os"
   ]
  },
  {
   "cell_type": "code",
   "execution_count": 20,
   "id": "658c5af7-5ddd-480e-bbc7-fad1f67e98ff",
   "metadata": {},
   "outputs": [
    {
     "data": {
      "text/plain": [
       "'C:\\\\Users\\\\ASHISH DIXIT\\\\python\\\\Advance Python Modules'"
      ]
     },
     "execution_count": 20,
     "metadata": {},
     "output_type": "execute_result"
    }
   ],
   "source": [
    "os.getcwd()"
   ]
  },
  {
   "cell_type": "code",
   "execution_count": 21,
   "id": "62e601c2-d273-492f-8b0a-8b5641192756",
   "metadata": {},
   "outputs": [
    {
     "data": {
      "text/plain": [
       "['.ipynb_checkpoints',\n",
       " 'Advance Python Modules',\n",
       " 'args and kwargs.ipynb',\n",
       " 'asd.txt',\n",
       " 'decorators.ipynb',\n",
       " 'dictionaries.ipynb',\n",
       " 'error and exception handling.ipynb',\n",
       " 'for loops.ipynb',\n",
       " 'functions.ipynb',\n",
       " 'generators.ipynb',\n",
       " 'input output in basic python file.ipynb',\n",
       " 'LAMBDA .ipynb',\n",
       " 'list comprehension .ipynb',\n",
       " 'list.ipynb',\n",
       " 'mile stone project-1 understading.ipynb',\n",
       " 'myfile.txt',\n",
       " 'OOPs.ipynb',\n",
       " 'PROJECT-1 (TICK TACK TOE).ipynb',\n",
       " 'set.ipynb',\n",
       " 'staments test.ipynb',\n",
       " 'strings.ipynb',\n",
       " 'text file',\n",
       " 'tuples.ipynb',\n",
       " 'useful operators.ipynb',\n",
       " 'while  LOOP.ipynb']"
      ]
     },
     "execution_count": 21,
     "metadata": {},
     "output_type": "execute_result"
    }
   ],
   "source": [
    "os.listdir('C:\\\\Users\\\\ASHISH DIXIT\\\\python')"
   ]
  },
  {
   "cell_type": "code",
   "execution_count": 22,
   "id": "2181b457-8648-4f96-9424-3d57ce499ca0",
   "metadata": {},
   "outputs": [
    {
     "data": {
      "text/plain": [
       "['All Users',\n",
       " 'ASHISH DIXIT',\n",
       " 'Default',\n",
       " 'Default User',\n",
       " 'desktop.ini',\n",
       " 'Public']"
      ]
     },
     "execution_count": 22,
     "metadata": {},
     "output_type": "execute_result"
    }
   ],
   "source": [
    "os.listdir(\"C:\\\\Users\")"
   ]
  },
  {
   "cell_type": "code",
   "execution_count": 23,
   "id": "4acbfbb9-6155-4bb0-bc24-54cf4298117c",
   "metadata": {},
   "outputs": [],
   "source": [
    "import shutil"
   ]
  },
  {
   "cell_type": "code",
   "execution_count": null,
   "id": "d152c7e0-22c1-49e1-9a2f-28bb9135251d",
   "metadata": {},
   "outputs": [],
   "source": [
    "shutil.move('practice.text','C:\\\\Users\\\\ASHISH DIXIT\\\\python')"
   ]
  },
  {
   "cell_type": "code",
   "execution_count": 31,
   "id": "576d03ae-ed7e-4945-97e6-adbfa1e07e21",
   "metadata": {},
   "outputs": [],
   "source": [
    "import send2trash\n"
   ]
  },
  {
   "cell_type": "code",
   "execution_count": null,
   "id": "a6495d9d-17f4-42e9-b0da-97f8a067c0ea",
   "metadata": {},
   "outputs": [],
   "source": [
    " send2trash.send2trash('practice.txt')"
   ]
  },
  {
   "cell_type": "code",
   "execution_count": null,
   "id": "b601747d-f9b7-473b-9d26-611493b9fb6c",
   "metadata": {},
   "outputs": [],
   "source": [
    "for folder , sub_folders , files in os.walk(\"Example_Top_Level\"):\n",
    "    \n",
    "    print(\"Currently looking at folder: \"+ folder)\n",
    "    print('\\n')\n",
    "    print(\"THE SUBFOLDERS ARE: \")\n",
    "    for sub_fold in sub_folders:\n",
    "        print(\"\\t Subfolder: \"+sub_fold )\n",
    "    \n",
    "    print('\\n')\n",
    "    \n",
    "    print(\"THE FILES ARE: \")\n",
    "    for f in files:\n",
    "        print(\"\\t File: \"+f)\n",
    "    print('\\n')\n",
    "    #walking through dict\n",
    "    # we can view all folders trees and roots"
   ]
  }
 ],
 "metadata": {
  "kernelspec": {
   "display_name": "Python 3 (ipykernel)",
   "language": "python",
   "name": "python3"
  },
  "language_info": {
   "codemirror_mode": {
    "name": "ipython",
    "version": 3
   },
   "file_extension": ".py",
   "mimetype": "text/x-python",
   "name": "python",
   "nbconvert_exporter": "python",
   "pygments_lexer": "ipython3",
   "version": "3.12.7"
  }
 },
 "nbformat": 4,
 "nbformat_minor": 5
}
