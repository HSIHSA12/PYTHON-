{
 "cells": [
  {
   "cell_type": "code",
   "execution_count": 6,
   "id": "e14f3477-b089-4b62-bd17-b588ab014926",
   "metadata": {},
   "outputs": [
    {
     "name": "stdout",
     "output_type": "stream",
     "text": [
      "1\n",
      "2\n",
      "3\n",
      "4\n",
      "5\n",
      "6\n",
      "7\n",
      "8\n",
      "9\n",
      "10\n"
     ]
    }
   ],
   "source": [
    "mylist=[1,2,3,4,5,6,7,8,9,10]\n",
    "for num in mylist:\n",
    "    print(num)"
   ]
  },
  {
   "cell_type": "code",
   "execution_count": 7,
   "id": "eaa95f73-23aa-4f80-abf6-323ce2826d17",
   "metadata": {},
   "outputs": [
    {
     "name": "stdout",
     "output_type": "stream",
     "text": [
      "hi\n",
      "hi\n",
      "hi\n",
      "hi\n",
      "hi\n",
      "hi\n",
      "hi\n",
      "hi\n",
      "hi\n",
      "hi\n"
     ]
    }
   ],
   "source": [
    "mylist=[1,2,3,4,5,6,7,8,9,10]\n",
    "for num in mylist:\n",
    "    print('hi')"
   ]
  },
  {
   "cell_type": "code",
   "execution_count": 9,
   "id": "d61b8dbb-a9a6-4b71-be9c-6f304f30822f",
   "metadata": {},
   "outputs": [
    {
     "name": "stdout",
     "output_type": "stream",
     "text": [
      "ths number is not even: 1\n",
      "the number is even: 2\n",
      "ths number is not even: 3\n",
      "the number is even: 4\n",
      "ths number is not even: 5\n",
      "the number is even: 6\n",
      "ths number is not even: 7\n",
      "the number is even: 8\n",
      "ths number is not even: 9\n",
      "the number is even: 10\n"
     ]
    }
   ],
   "source": [
    "for num in mylist:\n",
    "    if num%2==0:\n",
    "        print('the number is even:',num) \n",
    "    else:\n",
    "        print('ths number is not even:',num)"
   ]
  },
  {
   "cell_type": "code",
   "execution_count": 10,
   "id": "5f3df6f4-abe3-45a9-96f3-41962973eae2",
   "metadata": {},
   "outputs": [
    {
     "name": "stdout",
     "output_type": "stream",
     "text": [
      "ths number is not even: 1\n",
      "the number is even: 2\n",
      "ths number is not even: 3\n",
      "the number is even: 4\n",
      "ths number is not even: 5\n",
      "the number is even: 6\n",
      "ths number is not even: 7\n",
      "the number is even: 8\n",
      "ths number is not even: 9\n",
      "the number is even: 10\n"
     ]
    }
   ],
   "source": [
    "#check if even or not \n",
    "for num in mylist:\n",
    "    if num%2==0:\n",
    "        print(f'the number is even: {num}') \n",
    "    else:\n",
    "        print(f'ths number is not even: {num}')"
   ]
  },
  {
   "cell_type": "code",
   "execution_count": 12,
   "id": "fbfb7da0-e976-4cf6-a63e-1e24fb76d956",
   "metadata": {},
   "outputs": [
    {
     "name": "stdout",
     "output_type": "stream",
     "text": [
      "the sum is 55\n"
     ]
    }
   ],
   "source": [
    "#sum of a list\n",
    "list_sum=0\n",
    "for num in mylist:\n",
    "    list_sum+=num\n",
    "print(f'the sum is {list_sum}')    "
   ]
  },
  {
   "cell_type": "code",
   "execution_count": 14,
   "id": "25a57a5c-ce22-492d-a122-f754b67f3b7e",
   "metadata": {},
   "outputs": [
    {
     "name": "stdout",
     "output_type": "stream",
     "text": [
      "h\n",
      "e\n",
      "l\n",
      "l\n",
      "o\n",
      " \n",
      "w\n",
      "o\n",
      "r\n",
      "l\n",
      "d\n"
     ]
    }
   ],
   "source": [
    "for letter in 'hello world':\n",
    "    print (letter)\n"
   ]
  },
  {
   "cell_type": "code",
   "execution_count": 18,
   "id": "a23d88e1-a82a-4e22-9263-8a98e4be60dc",
   "metadata": {},
   "outputs": [
    {
     "name": "stdout",
     "output_type": "stream",
     "text": [
      "h\n",
      "e\n",
      "l\n",
      "l\n",
      "o\n",
      " \n",
      "w\n",
      "o\n",
      "r\n",
      "l\n",
      "d\n"
     ]
    }
   ],
   "source": [
    "for letter in 'hello world':\n",
    "    print (letter)\n"
   ]
  },
  {
   "cell_type": "code",
   "execution_count": 19,
   "id": "09247d32-b71c-431c-8717-e385f231827d",
   "metadata": {},
   "outputs": [
    {
     "name": "stdout",
     "output_type": "stream",
     "text": [
      "letter\n",
      "letter\n",
      "letter\n",
      "letter\n",
      "letter\n",
      "letter\n",
      "letter\n",
      "letter\n",
      "letter\n",
      "letter\n",
      "letter\n"
     ]
    }
   ],
   "source": [
    "for letter in 'hello world':\n",
    "    print ('letter')\n"
   ]
  },
  {
   "cell_type": "code",
   "execution_count": 21,
   "id": "fd02f613-f18e-4804-8ef5-c07f8d65d65d",
   "metadata": {},
   "outputs": [
    {
     "name": "stdout",
     "output_type": "stream",
     "text": [
      "1\n",
      "2\n",
      "3\n",
      "4\n",
      "5\n",
      "6\n",
      "7\n",
      "8\n"
     ]
    }
   ],
   "source": [
    "#tuple unpacking\n",
    "newlist=[(1,2),(3,4),(5,6),(7,8)]\n",
    "for (a,b) in newlist:\n",
    "    print(a)\n",
    "    print(b)\n",
    "    "
   ]
  },
  {
   "cell_type": "code",
   "execution_count": 32,
   "id": "dc7329b3-fbdf-4299-84b4-efd311ab1a20",
   "metadata": {},
   "outputs": [
    {
     "name": "stdout",
     "output_type": "stream",
     "text": [
      "k1\n",
      "k2\n",
      "k3\n"
     ]
    }
   ],
   "source": [
    "#for dictionaries\n",
    "d={'k1':1,'k2':2,'k3':3}\n",
    "for (key,value) in d.items():\n",
    "    print(key)"
   ]
  },
  {
   "cell_type": "code",
   "execution_count": 33,
   "id": "189293db-35fa-49e4-ac14-1cbf84970d93",
   "metadata": {},
   "outputs": [
    {
     "name": "stdout",
     "output_type": "stream",
     "text": [
      "k1\n",
      "k2\n",
      "k3\n"
     ]
    }
   ],
   "source": [
    "#for dictionaries\n",
    "d={'k1':1,'k2':2,'k3':3}\n",
    "for key in d.keys():\n",
    "    print(key)\n"
   ]
  },
  {
   "cell_type": "code",
   "execution_count": 36,
   "id": "e77b3727-9983-4d23-ba69-8864e0d6b375",
   "metadata": {},
   "outputs": [
    {
     "name": "stdout",
     "output_type": "stream",
     "text": [
      "1\n",
      "2\n",
      "3\n"
     ]
    }
   ],
   "source": [
    "#for dictionaries\n",
    "d={'k1':1,'k2':2,'k3':3}\n",
    "for value in d.values():\n",
    "    print(value)\n"
   ]
  },
  {
   "cell_type": "code",
   "execution_count": 37,
   "id": "9b581487-c41d-4820-8f77-cf83de26fd1e",
   "metadata": {},
   "outputs": [
    {
     "name": "stdout",
     "output_type": "stream",
     "text": [
      "('k1', 1)\n",
      "('k2', 2)\n",
      "('k3', 3)\n"
     ]
    }
   ],
   "source": [
    "#for dictionaries\n",
    "d={'k1':1,'k2':2,'k3':3}\n",
    "for item in d.items():\n",
    "    print(item)\n"
   ]
  },
  {
   "cell_type": "code",
   "execution_count": null,
   "id": "77d218be-3a29-48ab-b30f-f7909c3e56a4",
   "metadata": {},
   "outputs": [],
   "source": []
  }
 ],
 "metadata": {
  "kernelspec": {
   "display_name": "Python 3 (ipykernel)",
   "language": "python",
   "name": "python3"
  },
  "language_info": {
   "codemirror_mode": {
    "name": "ipython",
    "version": 3
   },
   "file_extension": ".py",
   "mimetype": "text/x-python",
   "name": "python",
   "nbconvert_exporter": "python",
   "pygments_lexer": "ipython3",
   "version": "3.12.7"
  }
 },
 "nbformat": 4,
 "nbformat_minor": 5
}
