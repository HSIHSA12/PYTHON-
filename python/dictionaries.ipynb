{
 "cells": [
  {
   "cell_type": "code",
   "execution_count": 1,
   "id": "2bf50f1a-5b0d-4467-8034-1cfeb4cf3b71",
   "metadata": {},
   "outputs": [],
   "source": [
    "prices={'milk':28, 'eggs':6,'cheese':110}"
   ]
  },
  {
   "cell_type": "code",
   "execution_count": 2,
   "id": "a6705fd5-94f1-4073-9111-35162498e784",
   "metadata": {},
   "outputs": [
    {
     "data": {
      "text/plain": [
       "{'milk': 28, 'eggs': 6, 'cheese': 110}"
      ]
     },
     "execution_count": 2,
     "metadata": {},
     "output_type": "execute_result"
    }
   ],
   "source": [
    "prices"
   ]
  },
  {
   "cell_type": "code",
   "execution_count": 3,
   "id": "0b6a9ebc-557c-47ae-aa06-484bcca0da87",
   "metadata": {},
   "outputs": [
    {
     "data": {
      "text/plain": [
       "28"
      ]
     },
     "execution_count": 3,
     "metadata": {},
     "output_type": "execute_result"
    }
   ],
   "source": [
    "prices['milk']"
   ]
  },
  {
   "cell_type": "code",
   "execution_count": 4,
   "id": "f4df9dcb-42b8-49de-9f06-f09d879342bf",
   "metadata": {},
   "outputs": [],
   "source": [
    "a={'k1':23,'k2':'ashish','k3':[1,2,3,],'k5':[2,3,4,[5,2],6],'k6':{'insidedict':'hi'}}\n",
    "#can have list ,nested list or even dictionaries inside dictionaries "
   ]
  },
  {
   "cell_type": "code",
   "execution_count": 5,
   "id": "dd046c20-f13f-4a2a-839d-ce087d197006",
   "metadata": {},
   "outputs": [
    {
     "data": {
      "text/plain": [
       "{'k1': 23,\n",
       " 'k2': 'ashish',\n",
       " 'k3': [1, 2, 3],\n",
       " 'k5': [2, 3, 4, [5, 2], 6],\n",
       " 'k6': {'insidedict': 'hi'}}"
      ]
     },
     "execution_count": 5,
     "metadata": {},
     "output_type": "execute_result"
    }
   ],
   "source": [
    "a"
   ]
  },
  {
   "cell_type": "code",
   "execution_count": 9,
   "id": "13b01a03-bd44-4bb9-94e2-caa88923bb3b",
   "metadata": {},
   "outputs": [
    {
     "data": {
      "text/plain": [
       "2"
      ]
     },
     "execution_count": 9,
     "metadata": {},
     "output_type": "execute_result"
    }
   ],
   "source": [
    "a['k5'][3][-1]"
   ]
  },
  {
   "cell_type": "code",
   "execution_count": 10,
   "id": "c5aef0b8-7671-4e5f-8c63-1e15749b02b9",
   "metadata": {},
   "outputs": [
    {
     "data": {
      "text/plain": [
       "{'insidedict': 'hi'}"
      ]
     },
     "execution_count": 10,
     "metadata": {},
     "output_type": "execute_result"
    }
   ],
   "source": [
    "a['k6']"
   ]
  },
  {
   "cell_type": "code",
   "execution_count": 13,
   "id": "819e5940-ecdb-448d-a803-8cc6e1cda71f",
   "metadata": {},
   "outputs": [
    {
     "data": {
      "text/plain": [
       "'hi'"
      ]
     },
     "execution_count": 13,
     "metadata": {},
     "output_type": "execute_result"
    }
   ],
   "source": [
    "a['k6']['insidedict']"
   ]
  },
  {
   "cell_type": "code",
   "execution_count": 15,
   "id": "283e536b-07be-4c1d-a700-5234a6794d54",
   "metadata": {},
   "outputs": [],
   "source": [
    "d={'key1':['a','s','d','f','g']}"
   ]
  },
  {
   "cell_type": "code",
   "execution_count": 16,
   "id": "58204cc2-c33f-4d01-9942-99a948088ed1",
   "metadata": {},
   "outputs": [
    {
     "data": {
      "text/plain": [
       "'D'"
      ]
     },
     "execution_count": 16,
     "metadata": {},
     "output_type": "execute_result"
    }
   ],
   "source": [
    "d['key1'][2].upper()"
   ]
  },
  {
   "cell_type": "code",
   "execution_count": 17,
   "id": "7b247fab-ba3e-40e9-88fb-d44bc319669f",
   "metadata": {},
   "outputs": [],
   "source": [
    "d['key2']='hi'#adds new element"
   ]
  },
  {
   "cell_type": "code",
   "execution_count": 18,
   "id": "b301144e-a341-4324-aa12-5b83f9c15a56",
   "metadata": {},
   "outputs": [
    {
     "data": {
      "text/plain": [
       "{'key1': ['a', 's', 'd', 'f', 'g'], 'key2': 'hi'}"
      ]
     },
     "execution_count": 18,
     "metadata": {},
     "output_type": "execute_result"
    }
   ],
   "source": [
    "d"
   ]
  },
  {
   "cell_type": "code",
   "execution_count": 19,
   "id": "5a547b07-d46d-4657-9779-61ec5c746657",
   "metadata": {},
   "outputs": [],
   "source": [
    "d['key1']=21\n",
    "#reassing also "
   ]
  },
  {
   "cell_type": "code",
   "execution_count": 20,
   "id": "274921ba-0a6a-40d6-92a2-58057ef04921",
   "metadata": {},
   "outputs": [
    {
     "data": {
      "text/plain": [
       "{'key1': 21, 'key2': 'hi'}"
      ]
     },
     "execution_count": 20,
     "metadata": {},
     "output_type": "execute_result"
    }
   ],
   "source": [
    "d"
   ]
  },
  {
   "cell_type": "code",
   "execution_count": 21,
   "id": "642b67d8-8d65-47d7-864e-a12ec88fb7b5",
   "metadata": {},
   "outputs": [
    {
     "data": {
      "text/plain": [
       "dict_keys(['k1', 'k2', 'k3', 'k5', 'k6'])"
      ]
     },
     "execution_count": 21,
     "metadata": {},
     "output_type": "execute_result"
    }
   ],
   "source": [
    "a.keys()"
   ]
  },
  {
   "cell_type": "code",
   "execution_count": 22,
   "id": "6aec14fc-0451-435e-b758-c1976e55e733",
   "metadata": {},
   "outputs": [
    {
     "data": {
      "text/plain": [
       "dict_values([23, 'ashish', [1, 2, 3], [2, 3, 4, [5, 2], 6], {'insidedict': 'hi'}])"
      ]
     },
     "execution_count": 22,
     "metadata": {},
     "output_type": "execute_result"
    }
   ],
   "source": [
    "a.values()"
   ]
  },
  {
   "cell_type": "code",
   "execution_count": 23,
   "id": "31c4403c-3694-473e-962c-350c6e63950c",
   "metadata": {},
   "outputs": [
    {
     "data": {
      "text/plain": [
       "dict_items([('k1', 23), ('k2', 'ashish'), ('k3', [1, 2, 3]), ('k5', [2, 3, 4, [5, 2], 6]), ('k6', {'insidedict': 'hi'})])"
      ]
     },
     "execution_count": 23,
     "metadata": {},
     "output_type": "execute_result"
    }
   ],
   "source": [
    "a.items()\n",
    "#returns both keya nd values"
   ]
  },
  {
   "cell_type": "code",
   "execution_count": null,
   "id": "3f3ec9e4-160e-4866-b960-12e5dc89e807",
   "metadata": {},
   "outputs": [],
   "source": []
  }
 ],
 "metadata": {
  "kernelspec": {
   "display_name": "Python 3 (ipykernel)",
   "language": "python",
   "name": "python3"
  },
  "language_info": {
   "codemirror_mode": {
    "name": "ipython",
    "version": 3
   },
   "file_extension": ".py",
   "mimetype": "text/x-python",
   "name": "python",
   "nbconvert_exporter": "python",
   "pygments_lexer": "ipython3",
   "version": "3.12.7"
  }
 },
 "nbformat": 4,
 "nbformat_minor": 5
}
