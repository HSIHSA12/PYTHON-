{
 "cells": [
  {
   "cell_type": "code",
   "execution_count": 1,
   "id": "ab5e1623-b320-4864-ad42-72de76849294",
   "metadata": {},
   "outputs": [
    {
     "name": "stdout",
     "output_type": "stream",
     "text": [
      "Writing myfile.txt\n"
     ]
    }
   ],
   "source": [
    "%%writefile myfile.txt\n",
    "this is first line \n",
    "this is secind line\n",
    "#this method works in jupyter only "
   ]
  },
  {
   "cell_type": "code",
   "execution_count": 3,
   "id": "1a86b5b0-5e65-4463-b1fe-ec566232af2d",
   "metadata": {},
   "outputs": [],
   "source": [
    "myfile=open('myfile.txt')"
   ]
  },
  {
   "cell_type": "code",
   "execution_count": 4,
   "id": "15da7669-a60c-4451-9e40-83189b9bea70",
   "metadata": {},
   "outputs": [
    {
     "data": {
      "text/plain": [
       "'C:\\\\Users\\\\ASHISH DIXIT\\\\python'"
      ]
     },
     "execution_count": 4,
     "metadata": {},
     "output_type": "execute_result"
    }
   ],
   "source": [
    "pwd"
   ]
  },
  {
   "cell_type": "code",
   "execution_count": 5,
   "id": "cb74f330-9bfa-483e-bb62-e8948e225e7d",
   "metadata": {},
   "outputs": [
    {
     "data": {
      "text/plain": [
       "'this is first line \\nthis is secind line\\n#this method works in jupyter only \\n'"
      ]
     },
     "execution_count": 5,
     "metadata": {},
     "output_type": "execute_result"
    }
   ],
   "source": [
    "myfile.read()"
   ]
  },
  {
   "cell_type": "code",
   "execution_count": 6,
   "id": "02876ca8-b399-466f-b244-6876e0a26e13",
   "metadata": {},
   "outputs": [
    {
     "data": {
      "text/plain": [
       "''"
      ]
     },
     "execution_count": 6,
     "metadata": {},
     "output_type": "execute_result"
    }
   ],
   "source": [
    "myfile.read()# this output because cursor is at end and there is nothing to read"
   ]
  },
  {
   "cell_type": "code",
   "execution_count": 7,
   "id": "75f4dd9a-d7fc-460c-95f4-32c7cd61cc37",
   "metadata": {},
   "outputs": [
    {
     "data": {
      "text/plain": [
       "0"
      ]
     },
     "execution_count": 7,
     "metadata": {},
     "output_type": "execute_result"
    }
   ],
   "source": [
    "myfile.seek(0)# this brings cursor to the startin point "
   ]
  },
  {
   "cell_type": "code",
   "execution_count": 8,
   "id": "e1cdcd55-e2c4-4fb0-ab02-8179c380df84",
   "metadata": {},
   "outputs": [
    {
     "data": {
      "text/plain": [
       "'this is first line \\nthis is secind line\\n#this method works in jupyter only \\n'"
      ]
     },
     "execution_count": 8,
     "metadata": {},
     "output_type": "execute_result"
    }
   ],
   "source": [
    "myfile.read()"
   ]
  },
  {
   "cell_type": "code",
   "execution_count": 20,
   "id": "d9f8bb3f-793a-46c3-9dee-88b6021e254f",
   "metadata": {},
   "outputs": [
    {
     "data": {
      "text/plain": [
       "0"
      ]
     },
     "execution_count": 20,
     "metadata": {},
     "output_type": "execute_result"
    }
   ],
   "source": [
    "myfile.seek(0)"
   ]
  },
  {
   "cell_type": "code",
   "execution_count": 28,
   "id": "266aefe3-e767-47d0-8544-74ddf19e634e",
   "metadata": {},
   "outputs": [
    {
     "data": {
      "text/plain": [
       "''"
      ]
     },
     "execution_count": 28,
     "metadata": {},
     "output_type": "execute_result"
    }
   ],
   "source": [
    "myfile.read()"
   ]
  },
  {
   "cell_type": "code",
   "execution_count": 29,
   "id": "15fcc09a-531b-4fdc-bc2a-1bef2ffaad53",
   "metadata": {},
   "outputs": [
    {
     "data": {
      "text/plain": [
       "0"
      ]
     },
     "execution_count": 29,
     "metadata": {},
     "output_type": "execute_result"
    }
   ],
   "source": [
    "myfile.seek(0)"
   ]
  },
  {
   "cell_type": "code",
   "execution_count": 30,
   "id": "d1c1a729-7cbf-4471-8183-63b8756644be",
   "metadata": {},
   "outputs": [],
   "source": [
    "contents=myfile.read()"
   ]
  },
  {
   "cell_type": "code",
   "execution_count": 31,
   "id": "2994465a-10da-4900-8c74-a958563bd81a",
   "metadata": {},
   "outputs": [
    {
     "data": {
      "text/plain": [
       "'this is first line \\nthis is secind line\\n#this method works in jupyter only \\n'"
      ]
     },
     "execution_count": 31,
     "metadata": {},
     "output_type": "execute_result"
    }
   ],
   "source": [
    "contents"
   ]
  },
  {
   "cell_type": "code",
   "execution_count": 32,
   "id": "91c35dd7-a425-44db-998c-2cbeade06d2b",
   "metadata": {},
   "outputs": [
    {
     "data": {
      "text/plain": [
       "0"
      ]
     },
     "execution_count": 32,
     "metadata": {},
     "output_type": "execute_result"
    }
   ],
   "source": [
    "myfile.seek(0)"
   ]
  },
  {
   "cell_type": "code",
   "execution_count": 33,
   "id": "69449af9-cbd5-437e-9c8d-436bd410371b",
   "metadata": {},
   "outputs": [
    {
     "data": {
      "text/plain": [
       "['this is first line \\n',\n",
       " 'this is secind line\\n',\n",
       " '#this method works in jupyter only \\n']"
      ]
     },
     "execution_count": 33,
     "metadata": {},
     "output_type": "execute_result"
    }
   ],
   "source": [
    "myfile.readlines()"
   ]
  },
  {
   "cell_type": "code",
   "execution_count": 34,
   "id": "8a5bff92-cdfc-416a-8afd-416c2700c3d5",
   "metadata": {},
   "outputs": [
    {
     "data": {
      "text/plain": [
       "0"
      ]
     },
     "execution_count": 34,
     "metadata": {},
     "output_type": "execute_result"
    }
   ],
   "source": [
    "myfile.seek(0)"
   ]
  },
  {
   "cell_type": "code",
   "execution_count": 35,
   "id": "2f879d36-1271-4cdc-a74a-a469f803a7a7",
   "metadata": {},
   "outputs": [
    {
     "data": {
      "text/plain": [
       "'this is first line \\n'"
      ]
     },
     "execution_count": 35,
     "metadata": {},
     "output_type": "execute_result"
    }
   ],
   "source": [
    "myfile.readline()"
   ]
  },
  {
   "cell_type": "code",
   "execution_count": 36,
   "id": "4996eb65-7c3e-4dc7-a8e6-08720da4c49a",
   "metadata": {},
   "outputs": [],
   "source": [
    "myfile.close()"
   ]
  },
  {
   "cell_type": "code",
   "execution_count": 38,
   "id": "db2da0b8-4700-4480-9ced-af32c59a58ee",
   "metadata": {},
   "outputs": [],
   "source": [
    "with open('myfile.txt') as my_newfile:\n",
    "    content=my_newfile.read()"
   ]
  },
  {
   "cell_type": "code",
   "execution_count": 39,
   "id": "88a68408-d900-4174-9978-b2c9fd864cc6",
   "metadata": {},
   "outputs": [
    {
     "data": {
      "text/plain": [
       "'this is first line \\nthis is secind line\\n#this method works in jupyter only \\n'"
      ]
     },
     "execution_count": 39,
     "metadata": {},
     "output_type": "execute_result"
    }
   ],
   "source": [
    "content"
   ]
  },
  {
   "cell_type": "code",
   "execution_count": 44,
   "id": "4153d4d8-d8fb-40f3-bc64-a9a2a20be30b",
   "metadata": {},
   "outputs": [],
   "source": [
    "with open('myfile.txt',mode='r')as f:\n",
    "    content=f.read()"
   ]
  },
  {
   "cell_type": "code",
   "execution_count": 45,
   "id": "6519719d-d0d8-4bd2-8ad9-0d55e914a914",
   "metadata": {},
   "outputs": [
    {
     "data": {
      "text/plain": [
       "'this is first line \\nthis is secind line\\n#this method works in jupyter only \\nthis is new line'"
      ]
     },
     "execution_count": 45,
     "metadata": {},
     "output_type": "execute_result"
    }
   ],
   "source": [
    "content"
   ]
  },
  {
   "cell_type": "code",
   "execution_count": 54,
   "id": "7709d619-05c3-4f7d-b0eb-7b9d079868eb",
   "metadata": {},
   "outputs": [],
   "source": [
    "with open('myfile.txt',mode='a')as f:\n",
    "    f.write('\\n this is new line')"
   ]
  },
  {
   "cell_type": "code",
   "execution_count": 64,
   "id": "22529227-12a6-42e8-82af-54b6643417b2",
   "metadata": {},
   "outputs": [],
   "source": [
    "with open('myfile.txt',mode='r')as f:\n",
    "    content=f.readlines()"
   ]
  },
  {
   "cell_type": "code",
   "execution_count": 65,
   "id": "313853b0-d94a-44f2-b866-92c54fc03724",
   "metadata": {},
   "outputs": [
    {
     "data": {
      "text/plain": [
       "['this is first line \\n',\n",
       " 'this is secind line\\n',\n",
       " '#this method works in jupyter only \\n',\n",
       " 'this is new linethis is new line\\n',\n",
       " 'this is new line\\n',\n",
       " ' this is new line']"
      ]
     },
     "execution_count": 65,
     "metadata": {},
     "output_type": "execute_result"
    }
   ],
   "source": [
    "content"
   ]
  },
  {
   "cell_type": "code",
   "execution_count": 57,
   "id": "460fb22b-a893-4304-ad20-5c4382388f23",
   "metadata": {},
   "outputs": [],
   "source": [
    "with open('asd.txt',mode='w')as f:\n",
    "    f.write('this is new content')"
   ]
  },
  {
   "cell_type": "code",
   "execution_count": 62,
   "id": "10ed63e3-b38a-42c3-af3e-a4b54a7a072f",
   "metadata": {},
   "outputs": [
    {
     "name": "stdout",
     "output_type": "stream",
     "text": [
      "this is new content\n"
     ]
    }
   ],
   "source": [
    "with open('asd.txt',mode='r')as f:\n",
    "    print(f.read())"
   ]
  },
  {
   "cell_type": "code",
   "execution_count": null,
   "id": "679dc023-9c06-48e4-84d5-132b8aa72f08",
   "metadata": {},
   "outputs": [],
   "source": []
  },
  {
   "cell_type": "code",
   "execution_count": null,
   "id": "580a0333-6736-4762-a4ec-85bc273e7d4c",
   "metadata": {},
   "outputs": [],
   "source": []
  }
 ],
 "metadata": {
  "kernelspec": {
   "display_name": "Python 3 (ipykernel)",
   "language": "python",
   "name": "python3"
  },
  "language_info": {
   "codemirror_mode": {
    "name": "ipython",
    "version": 3
   },
   "file_extension": ".py",
   "mimetype": "text/x-python",
   "name": "python",
   "nbconvert_exporter": "python",
   "pygments_lexer": "ipython3",
   "version": "3.12.7"
  }
 },
 "nbformat": 4,
 "nbformat_minor": 5
}
