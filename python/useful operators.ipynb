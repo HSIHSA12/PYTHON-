{
 "cells": [
  {
   "cell_type": "code",
   "execution_count": 2,
   "id": "3f9018ce-021d-4711-ae03-11e5c6e4e10e",
   "metadata": {},
   "outputs": [
    {
     "name": "stdout",
     "output_type": "stream",
     "text": [
      "0\n",
      "1\n",
      "2\n",
      "3\n",
      "4\n",
      "5\n",
      "6\n",
      "7\n",
      "8\n",
      "9\n",
      "10\n"
     ]
    }
   ],
   "source": [
    "for i in range(11):\n",
    "    print(i)"
   ]
  },
  {
   "cell_type": "code",
   "execution_count": 3,
   "id": "7ff0a6c6-18f6-4a70-aa0c-8f08b41ff4f2",
   "metadata": {},
   "outputs": [
    {
     "name": "stdout",
     "output_type": "stream",
     "text": [
      "2\n",
      "3\n",
      "4\n",
      "5\n",
      "6\n",
      "7\n",
      "8\n",
      "9\n",
      "10\n"
     ]
    }
   ],
   "source": [
    "for i in range(2,11):\n",
    "    print(i)"
   ]
  },
  {
   "cell_type": "code",
   "execution_count": 4,
   "id": "2511cd77-dc72-4c7c-a4d5-18011570fa4d",
   "metadata": {},
   "outputs": [
    {
     "name": "stdout",
     "output_type": "stream",
     "text": [
      "3\n",
      "5\n",
      "7\n",
      "9\n"
     ]
    }
   ],
   "source": [
    "for i in range(3,11,2):\n",
    "    print(i)"
   ]
  },
  {
   "cell_type": "code",
   "execution_count": 5,
   "id": "b16252ad-e73d-477e-af95-9d1cdde6f2ac",
   "metadata": {},
   "outputs": [
    {
     "data": {
      "text/plain": [
       "[0, 1, 2, 3, 4, 5, 6, 7, 8, 9, 10]"
      ]
     },
     "execution_count": 5,
     "metadata": {},
     "output_type": "execute_result"
    }
   ],
   "source": [
    "list(range(11))"
   ]
  },
  {
   "cell_type": "code",
   "execution_count": 6,
   "id": "ad02877e-4ce3-4528-84c4-d1a795709f2f",
   "metadata": {},
   "outputs": [
    {
     "data": {
      "text/plain": [
       "[2, 3, 4, 5, 6, 7, 8, 9, 10, 11]"
      ]
     },
     "execution_count": 6,
     "metadata": {},
     "output_type": "execute_result"
    }
   ],
   "source": [
    "list(range(2,12))"
   ]
  },
  {
   "cell_type": "code",
   "execution_count": 7,
   "id": "eda04a03-9aa4-480e-9bf7-67b6bff1aee5",
   "metadata": {},
   "outputs": [
    {
     "data": {
      "text/plain": [
       "[2, 4, 6, 8, 10]"
      ]
     },
     "execution_count": 7,
     "metadata": {},
     "output_type": "execute_result"
    }
   ],
   "source": [
    "list(range(2,12,2))"
   ]
  },
  {
   "cell_type": "code",
   "execution_count": 10,
   "id": "afa67c9a-460e-441e-bd01-665cc4700fb7",
   "metadata": {},
   "outputs": [
    {
     "name": "stdout",
     "output_type": "stream",
     "text": [
      "at index 0 the letter is a\n",
      "at index 1 the letter is s\n",
      "at index 2 the letter is h\n",
      "at index 3 the letter is i\n",
      "at index 4 the letter is s\n",
      "at index 5 the letter is h\n"
     ]
    }
   ],
   "source": [
    "index_count=0\n",
    "for letter in 'ashish':\n",
    "    print('at index {} the letter is {}'.format(index_count,letter))\n",
    "    index_count+=1"
   ]
  },
  {
   "cell_type": "code",
   "execution_count": 21,
   "id": "d95e2a7c-ed80-4288-9331-b845f3be48d9",
   "metadata": {},
   "outputs": [
    {
     "name": "stdout",
     "output_type": "stream",
     "text": [
      "at index 0 the letter is a\n",
      "at index 1 the letter is s\n",
      "at index 2 the letter is h\n",
      "at index 3 the letter is i\n",
      "at index 4 the letter is s\n",
      "at index 5 the letter is h\n"
     ]
    }
   ],
   "source": [
    "word='ashish'\n",
    "for index,item in enumerate(word):\n",
    "    print(f\"at index {index} the letter is {item}\")"
   ]
  },
  {
   "cell_type": "code",
   "execution_count": 25,
   "id": "2c354f1a-05cc-46d9-b08e-3764864ed5f8",
   "metadata": {},
   "outputs": [
    {
     "name": "stdout",
     "output_type": "stream",
     "text": [
      "0\n",
      "a\n",
      "\n",
      "\n",
      "1\n",
      "s\n",
      "\n",
      "\n",
      "2\n",
      "h\n",
      "\n",
      "\n",
      "3\n",
      "i\n",
      "\n",
      "\n",
      "4\n",
      "s\n",
      "\n",
      "\n",
      "5\n",
      "h\n",
      "\n",
      "\n"
     ]
    }
   ],
   "source": [
    "word='ashish'\n",
    "for index,item in enumerate(word):\n",
    "    print(index)\n",
    "    print(item)\n",
    "    print('\\n')"
   ]
  },
  {
   "cell_type": "code",
   "execution_count": 26,
   "id": "48777ab2-7ff0-4f0b-8949-08e8c95dd5da",
   "metadata": {},
   "outputs": [
    {
     "data": {
      "text/plain": [
       "<zip at 0x207a5ab25c0>"
      ]
     },
     "execution_count": 26,
     "metadata": {},
     "output_type": "execute_result"
    }
   ],
   "source": [
    "mylist1=[1,2,3]\n",
    "mylist2=['a','b','c']\n",
    "zip(mylist1,mylist2)"
   ]
  },
  {
   "cell_type": "code",
   "execution_count": 29,
   "id": "0073e6fd-dca6-4f21-8de4-f701dc98dd6f",
   "metadata": {},
   "outputs": [
    {
     "name": "stdout",
     "output_type": "stream",
     "text": [
      "1 a\n",
      "2 b\n",
      "3 c\n"
     ]
    }
   ],
   "source": [
    "for item in zip(mylist1,mylist2):\n",
    "    print(item)"
   ]
  },
  {
   "cell_type": "code",
   "execution_count": 28,
   "id": "3d67d382-04c2-4b92-89c1-22435df35829",
   "metadata": {},
   "outputs": [
    {
     "data": {
      "text/plain": [
       "[(1, 'a'), (2, 'b'), (3, 'c')]"
      ]
     },
     "execution_count": 28,
     "metadata": {},
     "output_type": "execute_result"
    }
   ],
   "source": [
    "list(zip(mylist1,mylist))"
   ]
  },
  {
   "cell_type": "code",
   "execution_count": 31,
   "id": "e675d045-0aee-433d-9918-f79c7f201e3c",
   "metadata": {},
   "outputs": [
    {
     "name": "stdout",
     "output_type": "stream",
     "text": [
      "1 a\n",
      "2 b\n",
      "3 c\n"
     ]
    }
   ],
   "source": [
    "for a,b in zip(mylist1,mylist2):\n",
    "    print(a,b)"
   ]
  },
  {
   "cell_type": "code",
   "execution_count": 32,
   "id": "92030a79-3397-4d92-843a-c58e5b06f733",
   "metadata": {},
   "outputs": [
    {
     "name": "stdout",
     "output_type": "stream",
     "text": [
      "1\n",
      "2\n",
      "3\n"
     ]
    }
   ],
   "source": [
    "for a,b in zip(mylist1,mylist2):\n",
    "    print(a)"
   ]
  },
  {
   "cell_type": "code",
   "execution_count": 33,
   "id": "ac24a673-f19c-4db5-aede-5e29ca4ee1c2",
   "metadata": {},
   "outputs": [
    {
     "data": {
      "text/plain": [
       "True"
      ]
     },
     "execution_count": 33,
     "metadata": {},
     "output_type": "execute_result"
    }
   ],
   "source": [
    "'x' in ['x','y','z']"
   ]
  },
  {
   "cell_type": "code",
   "execution_count": 34,
   "id": "59c88ef3-f308-4c0a-8523-2527f4ce5cbe",
   "metadata": {},
   "outputs": [
    {
     "data": {
      "text/plain": [
       "False"
      ]
     },
     "execution_count": 34,
     "metadata": {},
     "output_type": "execute_result"
    }
   ],
   "source": [
    "'x' in [1,2,3]"
   ]
  },
  {
   "cell_type": "code",
   "execution_count": 35,
   "id": "fadd2531-609b-4acc-8357-efe4c86d4041",
   "metadata": {},
   "outputs": [
    {
     "data": {
      "text/plain": [
       "True"
      ]
     },
     "execution_count": 35,
     "metadata": {},
     "output_type": "execute_result"
    }
   ],
   "source": [
    "'a' in 'asbibs'"
   ]
  },
  {
   "cell_type": "code",
   "execution_count": 36,
   "id": "669c8f90-5b10-4ba9-ae3e-364401177bb4",
   "metadata": {},
   "outputs": [
    {
     "data": {
      "text/plain": [
       "True"
      ]
     },
     "execution_count": 36,
     "metadata": {},
     "output_type": "execute_result"
    }
   ],
   "source": [
    "'mykey'in {'mykey':1}"
   ]
  },
  {
   "cell_type": "code",
   "execution_count": 38,
   "id": "34248eb5-7da1-4acb-8ece-313a4ac253ce",
   "metadata": {},
   "outputs": [
    {
     "data": {
      "text/plain": [
       "True"
      ]
     },
     "execution_count": 38,
     "metadata": {},
     "output_type": "execute_result"
    }
   ],
   "source": [
    "d={'mykey':1234}\n",
    "1234 in d.values()"
   ]
  },
  {
   "cell_type": "code",
   "execution_count": null,
   "id": "f155513f-57dc-47a3-8fb2-7f5c6566c63f",
   "metadata": {},
   "outputs": [],
   "source": []
  }
 ],
 "metadata": {
  "kernelspec": {
   "display_name": "Python 3 (ipykernel)",
   "language": "python",
   "name": "python3"
  },
  "language_info": {
   "codemirror_mode": {
    "name": "ipython",
    "version": 3
   },
   "file_extension": ".py",
   "mimetype": "text/x-python",
   "name": "python",
   "nbconvert_exporter": "python",
   "pygments_lexer": "ipython3",
   "version": "3.12.7"
  }
 },
 "nbformat": 4,
 "nbformat_minor": 5
}
