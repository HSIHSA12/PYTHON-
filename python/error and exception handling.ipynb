{
 "cells": [
  {
   "cell_type": "code",
   "execution_count": 6,
   "id": "62f06742-0767-43d9-9311-92102c4b39ac",
   "metadata": {},
   "outputs": [
    {
     "name": "stdin",
     "output_type": "stream",
     "text": [
      "enter the number: d\n"
     ]
    },
    {
     "name": "stdout",
     "output_type": "stream",
     "text": [
      "its not a number\n",
      "i alwasy print\n"
     ]
    }
   ],
   "source": [
    "try:\n",
    "    a=int(input('enter the number:'))\n",
    "except:\n",
    "    print('its not a number')\n",
    "finally:\n",
    "    print('i alwasy print')\n"
   ]
  },
  {
   "cell_type": "code",
   "execution_count": 8,
   "id": "098168a8-a67b-47ed-8c3d-adc627c96f27",
   "metadata": {},
   "outputs": [],
   "source": [
    "def ask_int():\n",
    "    while True:\n",
    "        try:\n",
    "            num=int(input('enetr the number'))\n",
    "        except:\n",
    "            print(\"whops its not a number\")\n",
    "            continue\n",
    "        else:\n",
    "            print('thanks for entering the number')\n",
    "            break"
   ]
  },
  {
   "cell_type": "code",
   "execution_count": 9,
   "id": "83224036-5478-4e4f-9ace-9fff95628ea7",
   "metadata": {},
   "outputs": [
    {
     "name": "stdin",
     "output_type": "stream",
     "text": [
      "enetr the number s\n"
     ]
    },
    {
     "name": "stdout",
     "output_type": "stream",
     "text": [
      "whops its not a number\n"
     ]
    },
    {
     "name": "stdin",
     "output_type": "stream",
     "text": [
      "enetr the number asdf\n"
     ]
    },
    {
     "name": "stdout",
     "output_type": "stream",
     "text": [
      "whops its not a number\n"
     ]
    },
    {
     "name": "stdin",
     "output_type": "stream",
     "text": [
      "enetr the number sdfg\n"
     ]
    },
    {
     "name": "stdout",
     "output_type": "stream",
     "text": [
      "whops its not a number\n"
     ]
    },
    {
     "name": "stdin",
     "output_type": "stream",
     "text": [
      "enetr the number 2\n"
     ]
    },
    {
     "name": "stdout",
     "output_type": "stream",
     "text": [
      "thanks for entering the number\n"
     ]
    }
   ],
   "source": [
    "ask_int()"
   ]
  },
  {
   "cell_type": "code",
   "execution_count": 12,
   "id": "5158dd82-3434-4104-a46a-6925f26f712a",
   "metadata": {},
   "outputs": [
    {
     "name": "stdout",
     "output_type": "stream",
     "text": [
      "unsupported error\n"
     ]
    }
   ],
   "source": [
    "try:\n",
    "    for i in['a','s','f']:\n",
    "        print(i**2)\n",
    "except TypeError:\n",
    "    print('unsupported error')"
   ]
  },
  {
   "cell_type": "code",
   "execution_count": 13,
   "id": "e5556779-6372-4b31-b257-c76923e7cd2c",
   "metadata": {},
   "outputs": [],
   "source": [
    "def ask():\n",
    "    while True:\n",
    "        try:\n",
    "            a=int(input('enter the number:'))\n",
    "        except:\n",
    "            print('enter the valid number please')\n",
    "            continue\n",
    "        else:\n",
    "            print(f'the square of number is {a**2}')\n",
    "            break"
   ]
  },
  {
   "cell_type": "code",
   "execution_count": 14,
   "id": "6e51e1f7-18ad-40fe-999e-ecb442a152b7",
   "metadata": {},
   "outputs": [
    {
     "name": "stdin",
     "output_type": "stream",
     "text": [
      "enter the number: a\n"
     ]
    },
    {
     "name": "stdout",
     "output_type": "stream",
     "text": [
      "enter the valid number please\n"
     ]
    },
    {
     "name": "stdin",
     "output_type": "stream",
     "text": [
      "enter the number: 4\n"
     ]
    },
    {
     "name": "stdout",
     "output_type": "stream",
     "text": [
      "the square of number is 16\n"
     ]
    }
   ],
   "source": [
    "ask()"
   ]
  },
  {
   "cell_type": "code",
   "execution_count": null,
   "id": "2843c6ae-25bb-46c8-87f5-9dbaa567b0e3",
   "metadata": {},
   "outputs": [],
   "source": []
  }
 ],
 "metadata": {
  "kernelspec": {
   "display_name": "Python 3 (ipykernel)",
   "language": "python",
   "name": "python3"
  },
  "language_info": {
   "codemirror_mode": {
    "name": "ipython",
    "version": 3
   },
   "file_extension": ".py",
   "mimetype": "text/x-python",
   "name": "python",
   "nbconvert_exporter": "python",
   "pygments_lexer": "ipython3",
   "version": "3.12.7"
  }
 },
 "nbformat": 4,
 "nbformat_minor": 5
}
