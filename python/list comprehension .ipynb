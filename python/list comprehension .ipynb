{
 "cells": [
  {
   "cell_type": "code",
   "execution_count": 4,
   "id": "9120190c-ce1c-4bde-b410-755b42e75001",
   "metadata": {},
   "outputs": [
    {
     "name": "stdout",
     "output_type": "stream",
     "text": [
      "['a', 's', 'h', 'i', 's', 'h']\n"
     ]
    }
   ],
   "source": [
    "mystring='ashish'\n",
    "mylist=[]\n",
    "for letter in mystring:\n",
    "    mylist.append(letter)\n",
    "print(mylist)    "
   ]
  },
  {
   "cell_type": "code",
   "execution_count": 8,
   "id": "b93acda0-9fa9-4667-a5e3-6f8d923595e3",
   "metadata": {},
   "outputs": [],
   "source": [
    "mylist2=[letter for letter in 'ashish']\n",
    "#this is list comprehension"
   ]
  },
  {
   "cell_type": "code",
   "execution_count": 9,
   "id": "d3b6bcdb-f0ae-4941-af71-88fde363070b",
   "metadata": {},
   "outputs": [
    {
     "name": "stdout",
     "output_type": "stream",
     "text": [
      "['a', 's', 'h', 'i', 's', 'h']\n"
     ]
    }
   ],
   "source": [
    "print(mylist2)\n"
   ]
  },
  {
   "cell_type": "code",
   "execution_count": 16,
   "id": "2bd7c4de-b495-4c48-b342-6a0a680a36ca",
   "metadata": {},
   "outputs": [],
   "source": [
    "mylist3=[num for num in range(0,10,3)]"
   ]
  },
  {
   "cell_type": "code",
   "execution_count": 17,
   "id": "8226f4df-951c-468e-a674-4979d55b0cb9",
   "metadata": {},
   "outputs": [
    {
     "data": {
      "text/plain": [
       "[0, 3, 6, 9]"
      ]
     },
     "execution_count": 17,
     "metadata": {},
     "output_type": "execute_result"
    }
   ],
   "source": [
    "mylist3"
   ]
  },
  {
   "cell_type": "code",
   "execution_count": 20,
   "id": "4662bd7a-1154-41fd-82ab-84ef8b967385",
   "metadata": {},
   "outputs": [],
   "source": [
    "mylist3=[num**2 for num in range(0,10)]"
   ]
  },
  {
   "cell_type": "code",
   "execution_count": 21,
   "id": "f528c5ad-5abe-4cf7-b065-ea9bf2c3e33d",
   "metadata": {},
   "outputs": [
    {
     "data": {
      "text/plain": [
       "[0, 1, 4, 9, 16, 25, 36, 49, 64, 81]"
      ]
     },
     "execution_count": 21,
     "metadata": {},
     "output_type": "execute_result"
    }
   ],
   "source": [
    "mylist3"
   ]
  },
  {
   "cell_type": "code",
   "execution_count": 26,
   "id": "5d566e5e-d3d4-4e73-9656-20df3ff87ff1",
   "metadata": {},
   "outputs": [],
   "source": [
    "mylist3=[num for num in range(1,20) if num%2==0]"
   ]
  },
  {
   "cell_type": "code",
   "execution_count": 27,
   "id": "cbaa138b-1e3a-4fb8-8c75-c34d9d3cadf3",
   "metadata": {},
   "outputs": [
    {
     "data": {
      "text/plain": [
       "[2, 4, 6, 8, 10, 12, 14, 16, 18]"
      ]
     },
     "execution_count": 27,
     "metadata": {},
     "output_type": "execute_result"
    }
   ],
   "source": [
    "mylist3"
   ]
  },
  {
   "cell_type": "code",
   "execution_count": 28,
   "id": "225f2d20-b2ce-4104-b655-f02fcb2bcb7d",
   "metadata": {},
   "outputs": [
    {
     "name": "stdout",
     "output_type": "stream",
     "text": [
      "the temperature is [35.6, 39.2, 42.8, 46.4]\n"
     ]
    }
   ],
   "source": [
    "celcius=[2,4,6,8]\n",
    "fahrenheit=[((9/5)*temp+32) for temp in celcius]\n",
    "print(f'the temperature is {fahrenheit}')"
   ]
  },
  {
   "cell_type": "code",
   "execution_count": 29,
   "id": "40e73b85-c52c-444b-ac7d-5c7b1a492d1b",
   "metadata": {},
   "outputs": [],
   "source": [
    "result=[x if x%2==0 else 'odd' for x in range(0,10)]"
   ]
  },
  {
   "cell_type": "code",
   "execution_count": 30,
   "id": "413588ac-f9e7-447e-8e11-cead1fd196d6",
   "metadata": {},
   "outputs": [
    {
     "data": {
      "text/plain": [
       "[0, 'odd', 2, 'odd', 4, 'odd', 6, 'odd', 8, 'odd']"
      ]
     },
     "execution_count": 30,
     "metadata": {},
     "output_type": "execute_result"
    }
   ],
   "source": [
    "result"
   ]
  },
  {
   "cell_type": "code",
   "execution_count": 39,
   "id": "6adc6995-3301-45ab-b87b-faff318b0c2f",
   "metadata": {},
   "outputs": [
    {
     "name": "stdout",
     "output_type": "stream",
     "text": [
      "[12, 14, 16, 18, 21, 24, 24, 28, 32]\n"
     ]
    }
   ],
   "source": [
    "mylist=[]\n",
    "for x in [2,3,4]:\n",
    "     for y in [6,7,8]:\n",
    "         mylist.append(x*y)\n",
    "print(mylist)         \n",
    "  "
   ]
  },
  {
   "cell_type": "code",
   "execution_count": 36,
   "id": "24a4740e-d7d6-4b9b-b32e-d994325672d5",
   "metadata": {},
   "outputs": [
    {
     "name": "stdout",
     "output_type": "stream",
     "text": [
      "[12, 14, 16, 18, 21, 24, 24, 28, 32]\n"
     ]
    }
   ],
   "source": [
    "mylist=[x*y for x in[2,3,4] for y in[6,7,8]]\n",
    "print(mylist)"
   ]
  },
  {
   "cell_type": "code",
   "execution_count": null,
   "id": "244ef39e-00ce-4e01-96be-0300f24d8fd0",
   "metadata": {},
   "outputs": [],
   "source": []
  }
 ],
 "metadata": {
  "kernelspec": {
   "display_name": "Python 3 (ipykernel)",
   "language": "python",
   "name": "python3"
  },
  "language_info": {
   "codemirror_mode": {
    "name": "ipython",
    "version": 3
   },
   "file_extension": ".py",
   "mimetype": "text/x-python",
   "name": "python",
   "nbconvert_exporter": "python",
   "pygments_lexer": "ipython3",
   "version": "3.12.7"
  }
 },
 "nbformat": 4,
 "nbformat_minor": 5
}
