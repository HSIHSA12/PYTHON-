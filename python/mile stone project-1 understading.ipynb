{
 "cells": [
  {
   "cell_type": "code",
   "execution_count": null,
   "id": "d704b05f-bdc8-4530-8ede-81c6fd2cadc7",
   "metadata": {},
   "outputs": [],
   "source": [
    "def display(row1,row2,row3):\n",
    "    print(row1)\n",
    "    print(row2)\n",
    "    print(row3)\n",
    "row1=['','','']\n",
    "row2=['','','']\n",
    "row3=['','','']\n",
    "display(row1,row2,row3)"
   ]
  },
  {
   "cell_type": "code",
   "execution_count": null,
   "id": "90cbea1e-52aa-4312-8ad1-ffdefe295987",
   "metadata": {},
   "outputs": [],
   "source": [
    "row3[2]='x'"
   ]
  },
  {
   "cell_type": "code",
   "execution_count": null,
   "id": "e713231b-01f7-44f3-9bb0-1aa6ee294c2a",
   "metadata": {},
   "outputs": [],
   "source": [
    "display(row1,row2,row3)"
   ]
  },
  {
   "cell_type": "code",
   "execution_count": null,
   "id": "f35dbffd-129a-4e76-9308-f7be5d394367",
   "metadata": {},
   "outputs": [],
   "source": [
    "input(\"please enter the value\")"
   ]
  },
  {
   "cell_type": "code",
   "execution_count": null,
   "id": "53e9d23b-e610-4a50-aa2e-ea855f2c7476",
   "metadata": {},
   "outputs": [],
   "source": [
    "result=input(\"please enter the value\")"
   ]
  },
  {
   "cell_type": "code",
   "execution_count": null,
   "id": "8eaf7b33-46dc-41e9-9196-e4d1e58ddc2a",
   "metadata": {},
   "outputs": [],
   "source": [
    "type(result)"
   ]
  },
  {
   "cell_type": "code",
   "execution_count": null,
   "id": "4ef244b6-5624-4c98-b8e7-08bcc4cea6e6",
   "metadata": {},
   "outputs": [],
   "source": [
    "result_int=int(result)"
   ]
  },
  {
   "cell_type": "code",
   "execution_count": null,
   "id": "0e4889fd-f341-408a-b259-0f89a056db98",
   "metadata": {},
   "outputs": [],
   "source": [
    "type(result_int)"
   ]
  },
  {
   "cell_type": "code",
   "execution_count": null,
   "id": "a1b7c181-9f7c-4107-b466-17facdc76bb2",
   "metadata": {},
   "outputs": [],
   "source": [
    "type(2.34)"
   ]
  },
  {
   "cell_type": "code",
   "execution_count": null,
   "id": "2a470ce4-1428-4b54-8bc8-ad556a3dd671",
   "metadata": {},
   "outputs": [],
   "source": [
    "type('asd')"
   ]
  },
  {
   "cell_type": "code",
   "execution_count": null,
   "id": "10492fa2-6294-46f2-ac0f-3b0fb94885f1",
   "metadata": {},
   "outputs": [],
   "source": [
    "type(2)"
   ]
  },
  {
   "cell_type": "code",
   "execution_count": null,
   "id": "d094d5a2-fb79-451d-abfa-f2c0f0e02f4f",
   "metadata": {},
   "outputs": [],
   "source": [
    "float('3.13')"
   ]
  },
  {
   "cell_type": "code",
   "execution_count": null,
   "id": "0a7389fb-8ed2-41af-ae6d-315ccae7eff1",
   "metadata": {},
   "outputs": [],
   "source": [
    "position_index=int(input('enter the value:'))\n",
    "                   "
   ]
  },
  {
   "cell_type": "code",
   "execution_count": null,
   "id": "2816a833-68e5-4878-b0e8-0118c7940295",
   "metadata": {},
   "outputs": [],
   "source": [
    "row2[position_index]"
   ]
  },
  {
   "cell_type": "code",
   "execution_count": null,
   "id": "14aa7d30-23c3-4f39-a7b7-9942c1a3ced8",
   "metadata": {},
   "outputs": [],
   "source": [
    "print(row2)"
   ]
  },
  {
   "cell_type": "code",
   "execution_count": null,
   "id": "9ec920a1-d3e1-4eaa-bd7f-7f955901aa82",
   "metadata": {},
   "outputs": [],
   "source": [
    "def user_choice():\n",
    "    choice='wrong'\n",
    "    while choice.isdigit()==False:\n",
    "        choice=input('enter the number(0-10):')\n",
    "        if choice.isdigit()==False:\n",
    "            print('sorry please enter a digit')\n",
    "    return int(choice)\n",
    "user_choice()"
   ]
  },
  {
   "cell_type": "code",
   "execution_count": null,
   "id": "0f600605-0e80-4793-ad21-d3fdfbbae13a",
   "metadata": {},
   "outputs": [],
   "source": [
    "result='wrong'"
   ]
  },
  {
   "cell_type": "code",
   "execution_count": null,
   "id": "44426ae8-db3c-4197-98de-0c9af9721551",
   "metadata": {},
   "outputs": [],
   "source": [
    "acceptable_values=[0,1,2,]"
   ]
  },
  {
   "cell_type": "code",
   "execution_count": null,
   "id": "0b168319-c19d-488c-9b76-29a63071b862",
   "metadata": {},
   "outputs": [],
   "source": [
    "result in acceptable_values"
   ]
  },
  {
   "cell_type": "code",
   "execution_count": null,
   "id": "a07b00b5-a774-4c11-992d-ff551cfb1ee7",
   "metadata": {},
   "outputs": [],
   "source": [
    "result not in acceptable_values"
   ]
  },
  {
   "cell_type": "code",
   "execution_count": null,
   "id": "3cc148aa-87f3-4ebf-88c5-8fb5d62152c7",
   "metadata": {},
   "outputs": [],
   "source": [
    "def user_choice():\n",
    "    choice='wrong'\n",
    "\n",
    "    acceptable_range= range(0,10)\n",
    "    within_range=False\n",
    "    \n",
    "    while choice.isdigit()==False or within_range==False:\n",
    "        choice=input('enter the number(0-10):')\n",
    "        if choice.isdigit()==False:\n",
    "            print('sorry please enter a digit')\n",
    "        if choice.isdigit()==True:\n",
    "            if int(choice) in acceptable_range:\n",
    "                within_range=True\n",
    "            else :\n",
    "                print('sorry not in acceptable range')\n",
    "                within_range=False\n",
    "    return int(choice)\n",
    "user_choice()"
   ]
  },
  {
   "cell_type": "code",
   "execution_count": null,
   "id": "ffea5de1-b152-49af-8167-4b460b2342cd",
   "metadata": {},
   "outputs": [],
   "source": []
  },
  {
   "cell_type": "code",
   "execution_count": null,
   "id": "abc08c58-9d78-4c3b-9573-e4bfa3ede29a",
   "metadata": {},
   "outputs": [],
   "source": []
  },
  {
   "cell_type": "code",
   "execution_count": 1,
   "id": "0ac9c7eb-6455-450a-93a2-7d17bf8f9567",
   "metadata": {},
   "outputs": [],
   "source": [
    "game_list=[0,1,2]"
   ]
  },
  {
   "cell_type": "code",
   "execution_count": 2,
   "id": "3cf3c22d-5e54-41ee-bd1f-863c8e2bf646",
   "metadata": {},
   "outputs": [],
   "source": [
    "def display_game(game_list):\n",
    "    print('here is the current list')\n",
    "    print(game_list)"
   ]
  },
  {
   "cell_type": "code",
   "execution_count": 3,
   "id": "5f5ddd48-c8f1-437c-a006-ba12603dcd9d",
   "metadata": {},
   "outputs": [
    {
     "name": "stdout",
     "output_type": "stream",
     "text": [
      "here is the current list\n",
      "[0, 1, 2]\n"
     ]
    }
   ],
   "source": [
    "display_game(game_list)"
   ]
  },
  {
   "cell_type": "code",
   "execution_count": 4,
   "id": "f7181851-bcea-41de-a367-e5b1ec93c5d8",
   "metadata": {},
   "outputs": [],
   "source": [
    "def position_choice():\n",
    "    choice='wrong'\n",
    "    while choice not in ['0','1','2']:\n",
    "        choice=input('pick a position from(0,1,2)')\n",
    "        if choice not in ['0','1','2']:\n",
    "            print('invalid choice')\n",
    "    return(choice)        "
   ]
  },
  {
   "cell_type": "code",
   "execution_count": 6,
   "id": "da226941-e7e1-4a4e-84b5-12bb412ab499",
   "metadata": {},
   "outputs": [
    {
     "name": "stdin",
     "output_type": "stream",
     "text": [
      "pick a position from(0,1,2) 1\n"
     ]
    },
    {
     "data": {
      "text/plain": [
       "'1'"
      ]
     },
     "execution_count": 6,
     "metadata": {},
     "output_type": "execute_result"
    }
   ],
   "source": [
    "position_choice()"
   ]
  },
  {
   "cell_type": "code",
   "execution_count": 7,
   "id": "d4b380dd-b3f4-4cec-a373-4a7c2b071df0",
   "metadata": {},
   "outputs": [],
   "source": [
    "def replacment_choice(game_list,position):\n",
    "    user_replacment=input('type a string to enter at thr position')\n",
    "    game_list[position]=user_replacment\n",
    "    return game_list"
   ]
  },
  {
   "cell_type": "code",
   "execution_count": 8,
   "id": "490ef68e-315b-4434-a2c9-f41d6fe2216f",
   "metadata": {},
   "outputs": [
    {
     "name": "stdin",
     "output_type": "stream",
     "text": [
      "type a string to enter at thr position 2\n"
     ]
    },
    {
     "data": {
      "text/plain": [
       "[0, '2', 2]"
      ]
     },
     "execution_count": 8,
     "metadata": {},
     "output_type": "execute_result"
    }
   ],
   "source": [
    "replacment_choice(game_list,1)"
   ]
  },
  {
   "cell_type": "code",
   "execution_count": 9,
   "id": "f3b105b2-4880-4b7d-bb83-57b4266fe451",
   "metadata": {},
   "outputs": [],
   "source": [
    "def gameon_choice():\n",
    "    choice='wrong'\n",
    "    while choice not in ['Y','N']:\n",
    "        choice=input('keep playing?(Y OR N):')\n",
    "        if choice not in ['Y','N']:\n",
    "            print('sorry i dont understand please choose Y OR N!')\n",
    "    if choice=='Y':\n",
    "        return True\n",
    "    else:\n",
    "        return False\n",
    "          "
   ]
  },
  {
   "cell_type": "code",
   "execution_count": 10,
   "id": "e0a6ada5-d990-4fa3-9370-416dae0d1cfd",
   "metadata": {},
   "outputs": [
    {
     "name": "stdin",
     "output_type": "stream",
     "text": [
      "keep playing?(Y OR N): Y\n"
     ]
    },
    {
     "data": {
      "text/plain": [
       "True"
      ]
     },
     "execution_count": 10,
     "metadata": {},
     "output_type": "execute_result"
    }
   ],
   "source": [
    "gameon_choice()"
   ]
  },
  {
   "cell_type": "code",
   "execution_count": 11,
   "id": "ca13f98a-ef7a-41c9-90d7-8eb6cc1eeefe",
   "metadata": {},
   "outputs": [
    {
     "name": "stdout",
     "output_type": "stream",
     "text": [
      "here is the current list\n",
      "[0, 1, 2]\n"
     ]
    },
    {
     "name": "stdin",
     "output_type": "stream",
     "text": [
      "pick a position from(0,1,2) 2\n",
      "type a string to enter at thr position asd\n"
     ]
    },
    {
     "name": "stdout",
     "output_type": "stream",
     "text": [
      "here is the current list\n",
      "[0, 1, 'asd']\n"
     ]
    },
    {
     "name": "stdin",
     "output_type": "stream",
     "text": [
      "keep playing?(Y OR N): Y\n"
     ]
    },
    {
     "name": "stdout",
     "output_type": "stream",
     "text": [
      "here is the current list\n",
      "[0, 1, 'asd']\n"
     ]
    },
    {
     "name": "stdin",
     "output_type": "stream",
     "text": [
      "pick a position from(0,1,2) 2\n",
      "type a string to enter at thr position ax\n"
     ]
    },
    {
     "name": "stdout",
     "output_type": "stream",
     "text": [
      "here is the current list\n",
      "[0, 1, 'ax']\n"
     ]
    },
    {
     "name": "stdin",
     "output_type": "stream",
     "text": [
      "keep playing?(Y OR N): N\n"
     ]
    }
   ],
   "source": [
    "game_on=True\n",
    "game_list=[0,1,2]\n",
    "while game_on==True:\n",
    "    display_game(game_list)\n",
    "    position=int(position_choice())\n",
    "    game_list=replacment_choice(game_list,position)\n",
    "    display_game(game_list)\n",
    "    game_on=gameon_choice()\n",
    "         \n",
    "    \n",
    "    "
   ]
  },
  {
   "cell_type": "code",
   "execution_count": null,
   "id": "5fa2bdd0-a303-48cb-af4d-65fbf46e80ca",
   "metadata": {},
   "outputs": [],
   "source": []
  },
  {
   "cell_type": "code",
   "execution_count": null,
   "id": "d0ee05f5-3600-4638-a5cf-d398d0a6f9a2",
   "metadata": {},
   "outputs": [],
   "source": []
  },
  {
   "cell_type": "code",
   "execution_count": null,
   "id": "e86e6c2f-3446-4f7f-a06e-15178c1ca056",
   "metadata": {},
   "outputs": [],
   "source": []
  }
 ],
 "metadata": {
  "kernelspec": {
   "display_name": "Python 3 (ipykernel)",
   "language": "python",
   "name": "python3"
  },
  "language_info": {
   "codemirror_mode": {
    "name": "ipython",
    "version": 3
   },
   "file_extension": ".py",
   "mimetype": "text/x-python",
   "name": "python",
   "nbconvert_exporter": "python",
   "pygments_lexer": "ipython3",
   "version": "3.12.7"
  }
 },
 "nbformat": 4,
 "nbformat_minor": 5
}
