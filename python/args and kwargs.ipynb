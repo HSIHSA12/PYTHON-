{
 "cells": [
  {
   "cell_type": "code",
   "execution_count": 3,
   "id": "676dd2c2-61ea-4427-b181-957b06c0fdba",
   "metadata": {},
   "outputs": [
    {
     "data": {
      "text/plain": [
       "630"
      ]
     },
     "execution_count": 3,
     "metadata": {},
     "output_type": "execute_result"
    }
   ],
   "source": [
    "def myfunc(*args):\n",
    "    return sum(args)*5\n",
    "myfunc(23,45,34,24)    "
   ]
  },
  {
   "cell_type": "code",
   "execution_count": 6,
   "id": "29de61cb-c308-4cf5-83c9-208dae523abc",
   "metadata": {},
   "outputs": [
    {
     "data": {
      "text/plain": [
       "1960"
      ]
     },
     "execution_count": 6,
     "metadata": {},
     "output_type": "execute_result"
    }
   ],
   "source": [
    "def myfunc(*ashish):\n",
    "    return sum(ashish)*5\n",
    "myfunc(23,45,324)    \n",
    "# ca use  anything agter the * but prefer *args"
   ]
  },
  {
   "cell_type": "code",
   "execution_count": 17,
   "id": "f68a89c2-0446-4563-9a9f-4de15efc662c",
   "metadata": {},
   "outputs": [
    {
     "name": "stdout",
     "output_type": "stream",
     "text": [
      "{'fruit': 'banana'}\n",
      "my fruit  of chioce is banana\n"
     ]
    }
   ],
   "source": [
    "def myfunc(**kwargs):\n",
    "    print(kwargs)\n",
    "    if 'fruit' in kwargs:\n",
    "        print('my fruit  of chioce is {}'.format(kwargs['fruit']))\n",
    "    else :\n",
    "        print('i did not find any fruit here')\n",
    "myfunc(fruit='banana')        "
   ]
  },
  {
   "cell_type": "code",
   "execution_count": 18,
   "id": "836c857f-feb2-4392-81f3-c755c0258bb3",
   "metadata": {},
   "outputs": [],
   "source": [
    "def myfunc(**kwargs):\n",
    "    print(kwargs)"
   ]
  },
  {
   "cell_type": "code",
   "execution_count": 19,
   "id": "540cb05b-7135-4fb6-8c14-76f7f45d70da",
   "metadata": {},
   "outputs": [
    {
     "name": "stdout",
     "output_type": "stream",
     "text": [
      "{'fruit': 'apple', 'veggies': 'anything'}\n"
     ]
    }
   ],
   "source": [
    "myfunc(fruit='apple',veggies='anything')"
   ]
  },
  {
   "cell_type": "code",
   "execution_count": 20,
   "id": "e4326ae3-89f3-4cb5-a018-f335e53d075e",
   "metadata": {},
   "outputs": [],
   "source": [
    "def myfunc(*args,**kwargs):\n",
    "    print(args)\n",
    "    print(kwargs)\n",
    "    print('i would like{} {}'.format(args[0],kwargs['fruits']))"
   ]
  },
  {
   "cell_type": "code",
   "execution_count": 24,
   "id": "6c4396d9-9aa3-40a2-8178-e0c9ff6a7f38",
   "metadata": {},
   "outputs": [
    {
     "name": "stdout",
     "output_type": "stream",
     "text": [
      "(1, 2, 2, 4)\n",
      "{'fruits': 'qpple', 'akddm': 2}\n",
      "i would like1 qpple\n"
     ]
    }
   ],
   "source": [
    "myfunc(1,2,2,4,fruits='qpple',akddm=2)"
   ]
  },
  {
   "cell_type": "code",
   "execution_count": 29,
   "id": "7145dc9c-83f6-448d-aff3-e5fa89256c60",
   "metadata": {},
   "outputs": [
    {
     "data": {
      "text/plain": [
       "7"
      ]
     },
     "execution_count": 29,
     "metadata": {},
     "output_type": "execute_result"
    }
   ],
   "source": [
    "def lesser_of_two_even(a,b):\n",
    "    if a%2==0 and b%2==0:\n",
    "        result=min(a,b)\n",
    "    else:\n",
    "        result=max(a,b)\n",
    "    return result\n",
    "lesser_of_two_even(7,4)"
   ]
  },
  {
   "cell_type": "code",
   "execution_count": 37,
   "id": "af254c21-30b8-481d-a1fc-4a79a4d7aa55",
   "metadata": {},
   "outputs": [
    {
     "data": {
      "text/plain": [
       "True"
      ]
     },
     "execution_count": 37,
     "metadata": {},
     "output_type": "execute_result"
    }
   ],
   "source": [
    "def animal_list(text):\n",
    "    wordlist=text.split()\n",
    "    return wordlist[0][0]==wordlist[1][0]\n",
    "animal_list('asd ash')    "
   ]
  },
  {
   "cell_type": "code",
   "execution_count": 50,
   "id": "1ae8cb4a-57f2-4663-bc5b-63c130d03f1f",
   "metadata": {},
   "outputs": [
    {
     "data": {
      "text/plain": [
       "'you are how'"
      ]
     },
     "execution_count": 50,
     "metadata": {},
     "output_type": "execute_result"
    }
   ],
   "source": [
    "def master_yoda(text):\n",
    "    my_list=text.split()\n",
    "    reversed_list=my_list[::-1]\n",
    "    return ' '.join(reversed_list)\n",
    "\n",
    "    \n",
    "master_yoda('how are you')    "
   ]
  },
  {
   "cell_type": "code",
   "execution_count": 45,
   "id": "4ad4e01d-00f5-47c3-a107-dacb2e7e55e1",
   "metadata": {},
   "outputs": [
    {
     "data": {
      "text/plain": [
       "'anss'"
      ]
     },
     "execution_count": 45,
     "metadata": {},
     "output_type": "execute_result"
    }
   ],
   "source": [
    "mylist=['a','n','s','s']\n",
    "''.join(mylist)"
   ]
  },
  {
   "cell_type": "code",
   "execution_count": 55,
   "id": "294e80d9-1063-4ed0-a088-3ebe73a2f3f2",
   "metadata": {},
   "outputs": [
    {
     "data": {
      "text/plain": [
       "True"
      ]
     },
     "execution_count": 55,
     "metadata": {},
     "output_type": "execute_result"
    }
   ],
   "source": [
    "def almost_there(n):\n",
    "    return (abs(100-n)<10) or (abs(200-n)<10)\n",
    "almost_there(91)#abs(num)---->returns the absolute value of the number"
   ]
  },
  {
   "cell_type": "code",
   "execution_count": 66,
   "id": "013de921-957e-4d6d-9103-3a3fe1cf687f",
   "metadata": {},
   "outputs": [
    {
     "data": {
      "text/plain": [
       "True"
      ]
     },
     "execution_count": 66,
     "metadata": {},
     "output_type": "execute_result"
    }
   ],
   "source": [
    "def find_33(nums):\n",
    "    for i in range(0,len(nums)-1):\n",
    "        if nums[i:i+2]==[3,3]:\n",
    "       # if nums[i]==nums[i+1]:\n",
    "            return True\n",
    "    return False  \n",
    "find_33([1,2,33,3,3,4,5])"
   ]
  },
  {
   "cell_type": "code",
   "execution_count": 73,
   "id": "1a559ddc-e600-463f-9608-4cd773a4c1e8",
   "metadata": {},
   "outputs": [
    {
     "data": {
      "text/plain": [
       "'aaasssddd'"
      ]
     },
     "execution_count": 73,
     "metadata": {},
     "output_type": "execute_result"
    }
   ],
   "source": [
    "def paper_doll(string):\n",
    "    newstr=''    \n",
    "    for char in string:\n",
    "        newstr+=char*3\n",
    "    return newstr\n",
    "paper_doll('asd')"
   ]
  },
  {
   "cell_type": "code",
   "execution_count": 75,
   "id": "f0e82388-66db-49bf-bf0e-6ba855ff78a1",
   "metadata": {},
   "outputs": [
    {
     "data": {
      "text/plain": [
       "'bust'"
      ]
     },
     "execution_count": 75,
     "metadata": {},
     "output_type": "execute_result"
    }
   ],
   "source": [
    "def black_jack(a,b,c):\n",
    "    if sum([a,b,c])<=20:\n",
    "        return sum([a,b,c])\n",
    "    elif 11 in [a,b,c] and   sum([a,b,c])<=31:\n",
    "        return sum([a,b,c])-31\n",
    "    else:\n",
    "        return 'bust'\n",
    "black_jack(200,12,3)        "
   ]
  },
  {
   "cell_type": "code",
   "execution_count": 83,
   "id": "0259257a-cf0d-4a71-975e-1c7423cb6d31",
   "metadata": {},
   "outputs": [],
   "source": [
    "def spy_game(nums):\n",
    "    code=[0,0,7,'x']\n",
    "    for num in nums:\n",
    "        if num==code[0]:\n",
    "            code.pop(0)\n",
    "    return len(code)==1    "
   ]
  },
  {
   "cell_type": "code",
   "execution_count": 82,
   "id": "b9dbfff9-0443-4259-ab49-6221b87f23b8",
   "metadata": {},
   "outputs": [
    {
     "data": {
      "text/plain": [
       "True"
      ]
     },
     "execution_count": 82,
     "metadata": {},
     "output_type": "execute_result"
    }
   ],
   "source": [
    "spy_game([1,3,0,4,0,23,7])"
   ]
  },
  {
   "cell_type": "code",
   "execution_count": null,
   "id": "c0f6057f-e87d-451e-b0b0-1a654e4091c7",
   "metadata": {},
   "outputs": [],
   "source": []
  },
  {
   "cell_type": "code",
   "execution_count": null,
   "id": "88268ed0-de58-431b-9029-0ccd053a66a6",
   "metadata": {},
   "outputs": [],
   "source": []
  }
 ],
 "metadata": {
  "kernelspec": {
   "display_name": "Python 3 (ipykernel)",
   "language": "python",
   "name": "python3"
  },
  "language_info": {
   "codemirror_mode": {
    "name": "ipython",
    "version": 3
   },
   "file_extension": ".py",
   "mimetype": "text/x-python",
   "name": "python",
   "nbconvert_exporter": "python",
   "pygments_lexer": "ipython3",
   "version": "3.12.7"
  }
 },
 "nbformat": 4,
 "nbformat_minor": 5
}
