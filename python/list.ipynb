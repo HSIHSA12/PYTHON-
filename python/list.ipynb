{
 "cells": [
  {
   "cell_type": "code",
   "execution_count": 1,
   "id": "765fe86e-ca41-48d1-916d-4c9c064350b2",
   "metadata": {},
   "outputs": [],
   "source": [
    "list=['hello',1,4,12.3,'kill12']"
   ]
  },
  {
   "cell_type": "code",
   "execution_count": 2,
   "id": "32b84fab-b359-4b47-a16f-78bdb43b6fd8",
   "metadata": {},
   "outputs": [
    {
     "name": "stdout",
     "output_type": "stream",
     "text": [
      "['hello', 1, 4, 12.3, 'kill12']\n"
     ]
    }
   ],
   "source": [
    "print(list\n",
    "     )"
   ]
  },
  {
   "cell_type": "code",
   "execution_count": 3,
   "id": "c8c7cb2c-f5f4-477b-95a7-147b0298715b",
   "metadata": {},
   "outputs": [
    {
     "data": {
      "text/plain": [
       "['hello', 1, 4, 12.3, 'kill12']"
      ]
     },
     "execution_count": 3,
     "metadata": {},
     "output_type": "execute_result"
    }
   ],
   "source": [
    "list"
   ]
  },
  {
   "cell_type": "code",
   "execution_count": 4,
   "id": "225c8e65-8090-4a99-a44e-af27403852e6",
   "metadata": {},
   "outputs": [],
   "source": [
    "list[1]=2"
   ]
  },
  {
   "cell_type": "code",
   "execution_count": 5,
   "id": "2509d7e5-0b2e-4a36-8a36-edb0c0363c81",
   "metadata": {},
   "outputs": [
    {
     "data": {
      "text/plain": [
       "['hello', 2, 4, 12.3, 'kill12']"
      ]
     },
     "execution_count": 5,
     "metadata": {},
     "output_type": "execute_result"
    }
   ],
   "source": [
    "list"
   ]
  },
  {
   "cell_type": "code",
   "execution_count": 7,
   "id": "f491093d-659e-4a41-98d7-c040737f89fd",
   "metadata": {},
   "outputs": [],
   "source": [
    "list.append(9)"
   ]
  },
  {
   "cell_type": "code",
   "execution_count": 8,
   "id": "16f37983-c13e-4a4b-a66e-80310f87f037",
   "metadata": {},
   "outputs": [
    {
     "data": {
      "text/plain": [
       "['hello', 2, 4, 12.3, 'kill12', 9]"
      ]
     },
     "execution_count": 8,
     "metadata": {},
     "output_type": "execute_result"
    }
   ],
   "source": [
    "list"
   ]
  },
  {
   "cell_type": "code",
   "execution_count": 9,
   "id": "3b908846-e997-470e-87d8-3ef5125d3f95",
   "metadata": {},
   "outputs": [],
   "source": [
    "\n",
    "list2=['world']"
   ]
  },
  {
   "cell_type": "code",
   "execution_count": 13,
   "id": "c3b09067-c9d9-4f05-9684-ab7220d192bd",
   "metadata": {},
   "outputs": [],
   "source": [
    "list3=list+list2"
   ]
  },
  {
   "cell_type": "code",
   "execution_count": 15,
   "id": "6a1da993-cddf-44b3-841b-0ce6170fe62d",
   "metadata": {},
   "outputs": [],
   "source": [
    "poped_item=list3.pop()\n"
   ]
  },
  {
   "cell_type": "code",
   "execution_count": 18,
   "id": "c699d63d-f9bb-41f1-988d-06ad1e83e94c",
   "metadata": {},
   "outputs": [
    {
     "data": {
      "text/plain": [
       "['hello', 2, 4, 12.3]"
      ]
     },
     "execution_count": 18,
     "metadata": {},
     "output_type": "execute_result"
    }
   ],
   "source": [
    "list3"
   ]
  },
  {
   "cell_type": "code",
   "execution_count": 19,
   "id": "6e017205-7f78-49b3-851d-2916928fc536",
   "metadata": {},
   "outputs": [
    {
     "data": {
      "text/plain": [
       "'hello'"
      ]
     },
     "execution_count": 19,
     "metadata": {},
     "output_type": "execute_result"
    }
   ],
   "source": [
    "list3.pop(0)"
   ]
  },
  {
   "cell_type": "code",
   "execution_count": 20,
   "id": "6d6ddf8c-79c4-490b-8d7d-0c4fafce1b29",
   "metadata": {},
   "outputs": [
    {
     "data": {
      "text/plain": [
       "[2, 4, 12.3]"
      ]
     },
     "execution_count": 20,
     "metadata": {},
     "output_type": "execute_result"
    }
   ],
   "source": [
    "list3"
   ]
  },
  {
   "cell_type": "code",
   "execution_count": 21,
   "id": "cc8fdf69-9440-4b2a-9f8f-6c614edfb1bf",
   "metadata": {},
   "outputs": [],
   "source": [
    "list3.sort()"
   ]
  },
  {
   "cell_type": "code",
   "execution_count": 22,
   "id": "e7586849-ee13-4e8f-93c1-7860abf59a3b",
   "metadata": {},
   "outputs": [
    {
     "data": {
      "text/plain": [
       "[2, 4, 12.3]"
      ]
     },
     "execution_count": 22,
     "metadata": {},
     "output_type": "execute_result"
    }
   ],
   "source": [
    "list3"
   ]
  },
  {
   "cell_type": "code",
   "execution_count": 24,
   "id": "bc25b80d-d316-4861-9244-74ecf10c3fb1",
   "metadata": {},
   "outputs": [],
   "source": [
    "list4=[3,6,1,8,34,0,-1,-4]\n",
    "list5=['f','a','c','e','d','b']"
   ]
  },
  {
   "cell_type": "code",
   "execution_count": 25,
   "id": "b90208a2-1658-4dd7-b777-af333fc341f0",
   "metadata": {},
   "outputs": [],
   "source": [
    "sorted_list4=list4.sort()#not possible to store in another variable \n"
   ]
  },
  {
   "cell_type": "code",
   "execution_count": 27,
   "id": "93778bce-4c36-4b24-928d-a7f4fa580a35",
   "metadata": {},
   "outputs": [
    {
     "data": {
      "text/plain": [
       "NoneType"
      ]
     },
     "execution_count": 27,
     "metadata": {},
     "output_type": "execute_result"
    }
   ],
   "source": [
    "type(sorted_list4) #returns None"
   ]
  },
  {
   "cell_type": "code",
   "execution_count": 28,
   "id": "27da6050-9d96-47e4-9e2d-c8b01ead8198",
   "metadata": {},
   "outputs": [],
   "source": [
    "list4.sort()"
   ]
  },
  {
   "cell_type": "code",
   "execution_count": 29,
   "id": "7107183c-4253-4725-bec1-554f0b592893",
   "metadata": {},
   "outputs": [
    {
     "data": {
      "text/plain": [
       "[-4, -1, 0, 1, 3, 6, 8, 34]"
      ]
     },
     "execution_count": 29,
     "metadata": {},
     "output_type": "execute_result"
    }
   ],
   "source": [
    "list4"
   ]
  },
  {
   "cell_type": "code",
   "execution_count": 30,
   "id": "dcc89349-bc81-47b0-898a-1eaf149f122c",
   "metadata": {},
   "outputs": [],
   "source": [
    "sorted_list4=list4 #by this method we can  save in a new variable"
   ]
  },
  {
   "cell_type": "code",
   "execution_count": 31,
   "id": "8fd12c40-b405-4f9b-b3a6-59e286dbca66",
   "metadata": {},
   "outputs": [
    {
     "data": {
      "text/plain": [
       "[-4, -1, 0, 1, 3, 6, 8, 34]"
      ]
     },
     "execution_count": 31,
     "metadata": {},
     "output_type": "execute_result"
    }
   ],
   "source": [
    "sorted_list4"
   ]
  },
  {
   "cell_type": "code",
   "execution_count": 32,
   "id": "cd4bc81a-627c-4610-a0e6-09efb747b850",
   "metadata": {},
   "outputs": [],
   "source": [
    "list4.reverse()"
   ]
  },
  {
   "cell_type": "code",
   "execution_count": 33,
   "id": "8faeaaa6-865c-493f-9aec-5112f5f38461",
   "metadata": {},
   "outputs": [
    {
     "data": {
      "text/plain": [
       "[34, 8, 6, 3, 1, 0, -1, -4]"
      ]
     },
     "execution_count": 33,
     "metadata": {},
     "output_type": "execute_result"
    }
   ],
   "source": [
    "list4"
   ]
  },
  {
   "cell_type": "code",
   "execution_count": 34,
   "id": "52a40926-1573-4a65-90c5-8229667b9ef8",
   "metadata": {},
   "outputs": [],
   "source": [
    "list5.sort()"
   ]
  },
  {
   "cell_type": "code",
   "execution_count": 35,
   "id": "e5faad66-f4e5-426b-af11-735bde81ad6e",
   "metadata": {},
   "outputs": [
    {
     "data": {
      "text/plain": [
       "['a', 'b', 'c', 'd', 'e', 'f']"
      ]
     },
     "execution_count": 35,
     "metadata": {},
     "output_type": "execute_result"
    }
   ],
   "source": [
    "list5"
   ]
  },
  {
   "cell_type": "code",
   "execution_count": 38,
   "id": "9a7bd4ed-c828-45ee-809a-8809fc8ce6e6",
   "metadata": {},
   "outputs": [],
   "source": [
    "list5.remove('a')"
   ]
  },
  {
   "cell_type": "code",
   "execution_count": 39,
   "id": "ffaad897-8781-4581-8b98-04231af78a79",
   "metadata": {},
   "outputs": [
    {
     "data": {
      "text/plain": [
       "['b', 'c', 'd', 'e', 'f']"
      ]
     },
     "execution_count": 39,
     "metadata": {},
     "output_type": "execute_result"
    }
   ],
   "source": [
    "list5"
   ]
  },
  {
   "cell_type": "code",
   "execution_count": 40,
   "id": "57e631ff-3ada-4031-9907-5869e6d075a3",
   "metadata": {},
   "outputs": [],
   "source": [
    "list6=[1,2,[3,4]] #nested list "
   ]
  },
  {
   "cell_type": "code",
   "execution_count": 45,
   "id": "60efbaf1-e418-4951-8359-b3fb739e7aee",
   "metadata": {},
   "outputs": [
    {
     "data": {
      "text/plain": [
       "3"
      ]
     },
     "execution_count": 45,
     "metadata": {},
     "output_type": "execute_result"
    }
   ],
   "source": [
    "list6[2][0]# slicing of nested list"
   ]
  },
  {
   "cell_type": "code",
   "execution_count": null,
   "id": "02f38249-7d11-40dd-b5f8-a417653d7c3f",
   "metadata": {},
   "outputs": [],
   "source": []
  }
 ],
 "metadata": {
  "kernelspec": {
   "display_name": "Python 3 (ipykernel)",
   "language": "python",
   "name": "python3"
  },
  "language_info": {
   "codemirror_mode": {
    "name": "ipython",
    "version": 3
   },
   "file_extension": ".py",
   "mimetype": "text/x-python",
   "name": "python",
   "nbconvert_exporter": "python",
   "pygments_lexer": "ipython3",
   "version": "3.12.7"
  }
 },
 "nbformat": 4,
 "nbformat_minor": 5
}
