{
 "cells": [
  {
   "cell_type": "code",
   "execution_count": 4,
   "id": "92b2d91a-a7bc-4cb1-93b0-fc22cfab99b5",
   "metadata": {},
   "outputs": [
    {
     "name": "stdout",
     "output_type": "stream",
     "text": [
      "4\n",
      "9\n",
      "16\n",
      "25\n",
      "36\n"
     ]
    }
   ],
   "source": [
    "def square_num(num):\n",
    "    return num**2\n",
    "my_nums=[2,3,4,5,6]\n",
    "for item in map(square_num,my_nums):\n",
    "    print(item)\n",
    "  "
   ]
  },
  {
   "cell_type": "code",
   "execution_count": 5,
   "id": "42fb4e39-0e32-4826-9b0e-ee3a214cbc23",
   "metadata": {},
   "outputs": [
    {
     "data": {
      "text/plain": [
       "[4, 9, 16, 25, 36]"
      ]
     },
     "execution_count": 5,
     "metadata": {},
     "output_type": "execute_result"
    }
   ],
   "source": [
    "list(map(square_num,my_nums))"
   ]
  },
  {
   "cell_type": "code",
   "execution_count": 6,
   "id": "841933cb-5d66-4090-963e-1c69bd7e3242",
   "metadata": {},
   "outputs": [
    {
     "data": {
      "text/plain": [
       "['even', 'odd', 'even']"
      ]
     },
     "execution_count": 6,
     "metadata": {},
     "output_type": "execute_result"
    }
   ],
   "source": [
    "def splicer(mystring):\n",
    "    if len(mystring)%2==0:\n",
    "        return 'even'\n",
    "    else:\n",
    "        return 'odd'\n",
    "names=['assf','asfrsdf','afxd']\n",
    "list(map(splicer,names))"
   ]
  },
  {
   "cell_type": "code",
   "execution_count": 7,
   "id": "80c4dc07-5886-4ab9-baee-3088aed3407f",
   "metadata": {},
   "outputs": [
    {
     "data": {
      "text/plain": [
       "[2, 4, 6, 4]"
      ]
     },
     "execution_count": 7,
     "metadata": {},
     "output_type": "execute_result"
    }
   ],
   "source": [
    "def check_even(num):\n",
    "    return num%2==0\n",
    "numers=[2,3,4,5,6,4,3,1]\n",
    "list(filter(check_even,numers))"
   ]
  },
  {
   "cell_type": "code",
   "execution_count": 12,
   "id": "2a197e17-11f3-40c5-8c5e-7410145efd4e",
   "metadata": {},
   "outputs": [
    {
     "name": "stdout",
     "output_type": "stream",
     "text": [
      "2\n",
      "4\n",
      "6\n",
      "4\n"
     ]
    }
   ],
   "source": [
    "for  i in filter(check_even,numers):\n",
    "    print(i)"
   ]
  },
  {
   "cell_type": "code",
   "execution_count": 17,
   "id": "87338579-8794-4f98-9be7-87c8a4b0196c",
   "metadata": {},
   "outputs": [
    {
     "data": {
      "text/plain": [
       "4"
      ]
     },
     "execution_count": 17,
     "metadata": {},
     "output_type": "execute_result"
    }
   ],
   "source": [
    "squ=lambda num:num**2\n",
    "squ(2)"
   ]
  },
  {
   "cell_type": "code",
   "execution_count": 21,
   "id": "31e65bd6-6534-42b3-aa00-700b28c9dfa0",
   "metadata": {},
   "outputs": [
    {
     "data": {
      "text/plain": [
       "[4, 9, 16, 25, 36, 16, 9, 1]"
      ]
     },
     "execution_count": 21,
     "metadata": {},
     "output_type": "execute_result"
    }
   ],
   "source": [
    "list(map(lambda num:num**2,numers))"
   ]
  },
  {
   "cell_type": "code",
   "execution_count": 23,
   "id": "2c41dfa4-f733-4d6e-8d9f-223c4ad30f8f",
   "metadata": {},
   "outputs": [
    {
     "data": {
      "text/plain": [
       "[2, 4, 6, 4]"
      ]
     },
     "execution_count": 23,
     "metadata": {},
     "output_type": "execute_result"
    }
   ],
   "source": [
    "list(filter(lambda num: num%2==0,numers))"
   ]
  },
  {
   "cell_type": "code",
   "execution_count": 26,
   "id": "133db8e3-2e6d-4157-964b-50bf3a1310fa",
   "metadata": {},
   "outputs": [
    {
     "data": {
      "text/plain": [
       "['fssa', 'fdsrfsa', 'dxfa']"
      ]
     },
     "execution_count": 26,
     "metadata": {},
     "output_type": "execute_result"
    }
   ],
   "source": [
    "list(map(lambda x:x[::-1],names))"
   ]
  },
  {
   "cell_type": "code",
   "execution_count": null,
   "id": "37b1fc71-20e2-4a8b-9320-69ae81aaaec8",
   "metadata": {},
   "outputs": [],
   "source": []
  }
 ],
 "metadata": {
  "kernelspec": {
   "display_name": "Python 3 (ipykernel)",
   "language": "python",
   "name": "python3"
  },
  "language_info": {
   "codemirror_mode": {
    "name": "ipython",
    "version": 3
   },
   "file_extension": ".py",
   "mimetype": "text/x-python",
   "name": "python",
   "nbconvert_exporter": "python",
   "pygments_lexer": "ipython3",
   "version": "3.12.7"
  }
 },
 "nbformat": 4,
 "nbformat_minor": 5
}
